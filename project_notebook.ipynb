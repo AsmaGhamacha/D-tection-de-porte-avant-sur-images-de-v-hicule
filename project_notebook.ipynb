{
 "cells": [
  {
   "cell_type": "markdown",
   "metadata": {},
   "source": [
    "# Beginning of the code"
   ]
  },
  {
   "cell_type": "markdown",
   "metadata": {},
   "source": [
    "There are dozens of libraries for object detection or image segmentation; in principle, we could use any of them. However, for this project, we will use YOLOv8. Its native pip package support will make our lives much easier."
   ]
  },
  {
   "cell_type": "code",
   "execution_count": 1,
   "metadata": {},
   "outputs": [
    {
     "name": "stdout",
     "output_type": "stream",
     "text": [
      "Requirement already satisfied: ultralytics in c:\\users\\asmag\\anaconda3\\lib\\site-packages (8.1.33)\n",
      "Requirement already satisfied: matplotlib>=3.3.0 in c:\\users\\asmag\\anaconda3\\lib\\site-packages (from ultralytics) (3.8.0)\n",
      "Requirement already satisfied: opencv-python>=4.6.0 in c:\\users\\asmag\\anaconda3\\lib\\site-packages (from ultralytics) (4.9.0.80)\n",
      "Requirement already satisfied: pillow>=7.1.2 in c:\\users\\asmag\\anaconda3\\lib\\site-packages (from ultralytics) (10.2.0)\n",
      "Requirement already satisfied: pyyaml>=5.3.1 in c:\\users\\asmag\\anaconda3\\lib\\site-packages (from ultralytics) (6.0.1)\n",
      "Requirement already satisfied: requests>=2.23.0 in c:\\users\\asmag\\anaconda3\\lib\\site-packages (from ultralytics) (2.31.0)\n",
      "Requirement already satisfied: scipy>=1.4.1 in c:\\users\\asmag\\anaconda3\\lib\\site-packages (from ultralytics) (1.11.4)\n",
      "Requirement already satisfied: torch>=1.8.0 in c:\\users\\asmag\\anaconda3\\lib\\site-packages (from ultralytics) (2.2.1)\n",
      "Requirement already satisfied: torchvision>=0.9.0 in c:\\users\\asmag\\anaconda3\\lib\\site-packages (from ultralytics) (0.17.1)\n",
      "Requirement already satisfied: tqdm>=4.64.0 in c:\\users\\asmag\\anaconda3\\lib\\site-packages (from ultralytics) (4.65.0)\n",
      "Requirement already satisfied: psutil in c:\\users\\asmag\\anaconda3\\lib\\site-packages (from ultralytics) (5.9.0)\n",
      "Requirement already satisfied: py-cpuinfo in c:\\users\\asmag\\anaconda3\\lib\\site-packages (from ultralytics) (9.0.0)\n",
      "Requirement already satisfied: thop>=0.1.1 in c:\\users\\asmag\\anaconda3\\lib\\site-packages (from ultralytics) (0.1.1.post2209072238)\n",
      "Requirement already satisfied: pandas>=1.1.4 in c:\\users\\asmag\\anaconda3\\lib\\site-packages (from ultralytics) (2.1.4)\n",
      "Requirement already satisfied: seaborn>=0.11.0 in c:\\users\\asmag\\anaconda3\\lib\\site-packages (from ultralytics) (0.12.2)\n",
      "Requirement already satisfied: contourpy>=1.0.1 in c:\\users\\asmag\\anaconda3\\lib\\site-packages (from matplotlib>=3.3.0->ultralytics) (1.2.0)\n",
      "Requirement already satisfied: cycler>=0.10 in c:\\users\\asmag\\anaconda3\\lib\\site-packages (from matplotlib>=3.3.0->ultralytics) (0.10.0)\n",
      "Requirement already satisfied: fonttools>=4.22.0 in c:\\users\\asmag\\anaconda3\\lib\\site-packages (from matplotlib>=3.3.0->ultralytics) (4.25.0)\n",
      "Requirement already satisfied: kiwisolver>=1.0.1 in c:\\users\\asmag\\anaconda3\\lib\\site-packages (from matplotlib>=3.3.0->ultralytics) (1.4.4)\n",
      "Requirement already satisfied: numpy<2,>=1.21 in c:\\users\\asmag\\anaconda3\\lib\\site-packages (from matplotlib>=3.3.0->ultralytics) (1.26.4)\n",
      "Requirement already satisfied: packaging>=20.0 in c:\\users\\asmag\\anaconda3\\lib\\site-packages (from matplotlib>=3.3.0->ultralytics) (23.1)\n",
      "Requirement already satisfied: pyparsing>=2.3.1 in c:\\users\\asmag\\anaconda3\\lib\\site-packages (from matplotlib>=3.3.0->ultralytics) (3.0.9)\n",
      "Requirement already satisfied: python-dateutil>=2.7 in c:\\users\\asmag\\anaconda3\\lib\\site-packages (from matplotlib>=3.3.0->ultralytics) (2.8.2)\n",
      "Requirement already satisfied: pytz>=2020.1 in c:\\users\\asmag\\anaconda3\\lib\\site-packages (from pandas>=1.1.4->ultralytics) (2023.3.post1)\n",
      "Requirement already satisfied: tzdata>=2022.1 in c:\\users\\asmag\\anaconda3\\lib\\site-packages (from pandas>=1.1.4->ultralytics) (2023.3)\n",
      "Requirement already satisfied: charset-normalizer<4,>=2 in c:\\users\\asmag\\anaconda3\\lib\\site-packages (from requests>=2.23.0->ultralytics) (2.0.4)\n",
      "Requirement already satisfied: idna<4,>=2.5 in c:\\users\\asmag\\anaconda3\\lib\\site-packages (from requests>=2.23.0->ultralytics) (2.10)\n",
      "Requirement already satisfied: urllib3<3,>=1.21.1 in c:\\users\\asmag\\anaconda3\\lib\\site-packages (from requests>=2.23.0->ultralytics) (2.0.7)\n",
      "Requirement already satisfied: certifi>=2017.4.17 in c:\\users\\asmag\\anaconda3\\lib\\site-packages (from requests>=2.23.0->ultralytics) (2023.7.22)\n",
      "Requirement already satisfied: filelock in c:\\users\\asmag\\anaconda3\\lib\\site-packages (from torch>=1.8.0->ultralytics) (3.13.1)\n",
      "Requirement already satisfied: typing-extensions>=4.8.0 in c:\\users\\asmag\\anaconda3\\lib\\site-packages (from torch>=1.8.0->ultralytics) (4.9.0)\n",
      "Requirement already satisfied: sympy in c:\\users\\asmag\\anaconda3\\lib\\site-packages (from torch>=1.8.0->ultralytics) (1.12)\n",
      "Requirement already satisfied: networkx in c:\\users\\asmag\\anaconda3\\lib\\site-packages (from torch>=1.8.0->ultralytics) (3.1)\n",
      "Requirement already satisfied: jinja2 in c:\\users\\asmag\\anaconda3\\lib\\site-packages (from torch>=1.8.0->ultralytics) (3.1.3)\n",
      "Requirement already satisfied: fsspec in c:\\users\\asmag\\anaconda3\\lib\\site-packages (from torch>=1.8.0->ultralytics) (2023.10.0)\n",
      "Requirement already satisfied: colorama in c:\\users\\asmag\\anaconda3\\lib\\site-packages (from tqdm>=4.64.0->ultralytics) (0.4.6)\n",
      "Requirement already satisfied: six in c:\\users\\asmag\\anaconda3\\lib\\site-packages (from cycler>=0.10->matplotlib>=3.3.0->ultralytics) (1.16.0)\n",
      "Requirement already satisfied: MarkupSafe>=2.0 in c:\\users\\asmag\\anaconda3\\lib\\site-packages (from jinja2->torch>=1.8.0->ultralytics) (2.1.3)\n",
      "Requirement already satisfied: mpmath>=0.19 in c:\\users\\asmag\\anaconda3\\lib\\site-packages (from sympy->torch>=1.8.0->ultralytics) (1.3.0)\n"
     ]
    }
   ],
   "source": [
    "#Installing YOLOv8\n",
    "! pip install ultralytics"
   ]
  },
  {
   "cell_type": "markdown",
   "metadata": {},
   "source": [
    "YOLOv8 provides an SDK that allows training or prediction in just a few lines of Python code."
   ]
  },
  {
   "cell_type": "markdown",
   "metadata": {},
   "source": [
    "# loading the YOLOv8 model and inferring over a single frame\n"
   ]
  },
  {
   "cell_type": "code",
   "execution_count": 2,
   "metadata": {},
   "outputs": [],
   "source": [
    "#Importing YOLOv8\n",
    "from ultralytics import YOLO"
   ]
  },
  {
   "cell_type": "code",
   "execution_count": 60,
   "metadata": {},
   "outputs": [],
   "source": [
    "#Loading the YOLOv8 model \n",
    "model = YOLO('yolov8n.pt')"
   ]
  },
  {
   "cell_type": "code",
   "execution_count": 4,
   "metadata": {
    "slideshow": {
     "slide_type": "slide"
    }
   },
   "outputs": [
    {
     "name": "stdout",
     "output_type": "stream",
     "text": [
      "New https://pypi.org/project/ultralytics/8.1.34 available 😃 Update with 'pip install -U ultralytics'\n",
      "Ultralytics YOLOv8.1.33 🚀 Python-3.11.7 torch-2.2.1+cpu CPU (AMD Ryzen 7 2700X Eight-Core Processor)\n",
      "\u001b[34m\u001b[1mengine\\trainer: \u001b[0mtask=detect, mode=train, model=yolov8n.pt, data=config.yaml, epochs=50, time=None, patience=100, batch=16, imgsz=640, save=True, save_period=-1, cache=False, device=None, workers=8, project=None, name=train11, exist_ok=False, pretrained=True, optimizer=auto, verbose=True, seed=0, deterministic=True, single_cls=False, rect=False, cos_lr=False, close_mosaic=10, resume=False, amp=True, fraction=1.0, profile=False, freeze=None, multi_scale=False, overlap_mask=True, mask_ratio=4, dropout=0.0, val=True, split=val, save_json=False, save_hybrid=False, conf=None, iou=0.7, max_det=300, half=False, dnn=False, plots=True, source=None, vid_stride=1, stream_buffer=False, visualize=False, augment=False, agnostic_nms=False, classes=None, retina_masks=False, embed=None, show=False, save_frames=False, save_txt=False, save_conf=False, save_crop=False, show_labels=True, show_conf=True, show_boxes=True, line_width=None, format=torchscript, keras=False, optimize=False, int8=False, dynamic=False, simplify=False, opset=None, workspace=4, nms=False, lr0=0.01, lrf=0.01, momentum=0.937, weight_decay=0.0005, warmup_epochs=3.0, warmup_momentum=0.8, warmup_bias_lr=0.1, box=7.5, cls=0.5, dfl=1.5, pose=12.0, kobj=1.0, label_smoothing=0.0, nbs=64, hsv_h=0.015, hsv_s=0.7, hsv_v=0.4, degrees=0.0, translate=0.1, scale=0.5, shear=0.0, perspective=0.0, flipud=0.0, fliplr=0.5, bgr=0.0, mosaic=1.0, mixup=0.0, copy_paste=0.0, auto_augment=randaugment, erasing=0.4, crop_fraction=1.0, cfg=None, tracker=botsort.yaml, save_dir=runs\\detect\\train11\n",
      "Overriding model.yaml nc=80 with nc=1\n",
      "\n",
      "                   from  n    params  module                                       arguments                     \n",
      "  0                  -1  1       464  ultralytics.nn.modules.conv.Conv             [3, 16, 3, 2]                 \n",
      "  1                  -1  1      4672  ultralytics.nn.modules.conv.Conv             [16, 32, 3, 2]                \n",
      "  2                  -1  1      7360  ultralytics.nn.modules.block.C2f             [32, 32, 1, True]             \n",
      "  3                  -1  1     18560  ultralytics.nn.modules.conv.Conv             [32, 64, 3, 2]                \n",
      "  4                  -1  2     49664  ultralytics.nn.modules.block.C2f             [64, 64, 2, True]             \n",
      "  5                  -1  1     73984  ultralytics.nn.modules.conv.Conv             [64, 128, 3, 2]               \n",
      "  6                  -1  2    197632  ultralytics.nn.modules.block.C2f             [128, 128, 2, True]           \n",
      "  7                  -1  1    295424  ultralytics.nn.modules.conv.Conv             [128, 256, 3, 2]              \n",
      "  8                  -1  1    460288  ultralytics.nn.modules.block.C2f             [256, 256, 1, True]           \n",
      "  9                  -1  1    164608  ultralytics.nn.modules.block.SPPF            [256, 256, 5]                 \n",
      " 10                  -1  1         0  torch.nn.modules.upsampling.Upsample         [None, 2, 'nearest']          \n",
      " 11             [-1, 6]  1         0  ultralytics.nn.modules.conv.Concat           [1]                           \n",
      " 12                  -1  1    148224  ultralytics.nn.modules.block.C2f             [384, 128, 1]                 \n",
      " 13                  -1  1         0  torch.nn.modules.upsampling.Upsample         [None, 2, 'nearest']          \n",
      " 14             [-1, 4]  1         0  ultralytics.nn.modules.conv.Concat           [1]                           \n",
      " 15                  -1  1     37248  ultralytics.nn.modules.block.C2f             [192, 64, 1]                  \n",
      " 16                  -1  1     36992  ultralytics.nn.modules.conv.Conv             [64, 64, 3, 2]                \n",
      " 17            [-1, 12]  1         0  ultralytics.nn.modules.conv.Concat           [1]                           \n",
      " 18                  -1  1    123648  ultralytics.nn.modules.block.C2f             [192, 128, 1]                 \n",
      " 19                  -1  1    147712  ultralytics.nn.modules.conv.Conv             [128, 128, 3, 2]              \n",
      " 20             [-1, 9]  1         0  ultralytics.nn.modules.conv.Concat           [1]                           \n",
      " 21                  -1  1    493056  ultralytics.nn.modules.block.C2f             [384, 256, 1]                 \n",
      " 22        [15, 18, 21]  1    751507  ultralytics.nn.modules.head.Detect           [1, [64, 128, 256]]           \n",
      "Model summary: 225 layers, 3011043 parameters, 3011027 gradients, 8.2 GFLOPs\n",
      "\n",
      "Transferred 319/355 items from pretrained weights\n",
      "Freezing layer 'model.22.dfl.conv.weight'\n"
     ]
    },
    {
     "name": "stderr",
     "output_type": "stream",
     "text": [
      "\u001b[34m\u001b[1mtrain: \u001b[0mScanning C:\\BCAExpertise_MiniProjet\\porte_avant\\data_cars\\train\\labels.cache... 84 images, 0 backgrounds, 0 corrupt: 100%|██████████| 84/84 [00:00<?, ?it/s]\n",
      "\u001b[34m\u001b[1mval: \u001b[0mScanning C:\\BCAExpertise_MiniProjet\\porte_avant\\data_cars\\valid\\labels.cache... 8 images, 0 backgrounds, 0 corrupt: 100%|██████████| 8/8 [00:00<?, ?it/s]\n"
     ]
    },
    {
     "name": "stdout",
     "output_type": "stream",
     "text": [
      "Plotting labels to runs\\detect\\train11\\labels.jpg... \n",
      "\u001b[34m\u001b[1moptimizer:\u001b[0m 'optimizer=auto' found, ignoring 'lr0=0.01' and 'momentum=0.937' and determining best 'optimizer', 'lr0' and 'momentum' automatically... \n",
      "\u001b[34m\u001b[1moptimizer:\u001b[0m AdamW(lr=0.002, momentum=0.9) with parameter groups 57 weight(decay=0.0), 64 weight(decay=0.0005), 63 bias(decay=0.0)\n",
      "Image sizes 640 train, 640 val\n",
      "Using 0 dataloader workers\n",
      "Logging results to \u001b[1mruns\\detect\\train11\u001b[0m\n",
      "Starting training for 50 epochs...\n",
      "\n",
      "      Epoch    GPU_mem   box_loss   cls_loss   dfl_loss  Instances       Size\n"
     ]
    },
    {
     "name": "stderr",
     "output_type": "stream",
     "text": [
      "       1/50         0G      1.905      2.961      2.296         13        640: 100%|██████████| 6/6 [00:31<00:00,  5.20s/it]\n",
      "                 Class     Images  Instances      Box(P          R      mAP50  mAP50-95): 100%|██████████| 1/1 [00:01<00:00,  1.15s/it]"
     ]
    },
    {
     "name": "stdout",
     "output_type": "stream",
     "text": [
      "                   all          8          8    0.00333          1      0.293     0.0689\n"
     ]
    },
    {
     "name": "stderr",
     "output_type": "stream",
     "text": [
      "\n"
     ]
    },
    {
     "name": "stdout",
     "output_type": "stream",
     "text": [
      "\n",
      "      Epoch    GPU_mem   box_loss   cls_loss   dfl_loss  Instances       Size\n"
     ]
    },
    {
     "name": "stderr",
     "output_type": "stream",
     "text": [
      "       2/50         0G      1.568      2.744      1.946         10        640: 100%|██████████| 6/6 [00:28<00:00,  4.83s/it]\n",
      "                 Class     Images  Instances      Box(P          R      mAP50  mAP50-95): 100%|██████████| 1/1 [00:01<00:00,  1.14s/it]"
     ]
    },
    {
     "name": "stdout",
     "output_type": "stream",
     "text": [
      "                   all          8          8    0.00333          1      0.466      0.234\n"
     ]
    },
    {
     "name": "stderr",
     "output_type": "stream",
     "text": [
      "\n"
     ]
    },
    {
     "name": "stdout",
     "output_type": "stream",
     "text": [
      "\n",
      "      Epoch    GPU_mem   box_loss   cls_loss   dfl_loss  Instances       Size\n"
     ]
    },
    {
     "name": "stderr",
     "output_type": "stream",
     "text": [
      "       3/50         0G      1.321      2.431      1.734          6        640: 100%|██████████| 6/6 [00:32<00:00,  5.47s/it]\n",
      "                 Class     Images  Instances      Box(P          R      mAP50  mAP50-95): 100%|██████████| 1/1 [00:01<00:00,  1.19s/it]"
     ]
    },
    {
     "name": "stdout",
     "output_type": "stream",
     "text": [
      "                   all          8          8    0.00333          1      0.314      0.175\n"
     ]
    },
    {
     "name": "stderr",
     "output_type": "stream",
     "text": [
      "\n"
     ]
    },
    {
     "name": "stdout",
     "output_type": "stream",
     "text": [
      "\n",
      "      Epoch    GPU_mem   box_loss   cls_loss   dfl_loss  Instances       Size\n"
     ]
    },
    {
     "name": "stderr",
     "output_type": "stream",
     "text": [
      "       4/50         0G      1.045      2.152      1.502          5        640: 100%|██████████| 6/6 [00:28<00:00,  4.70s/it]\n",
      "                 Class     Images  Instances      Box(P          R      mAP50  mAP50-95): 100%|██████████| 1/1 [00:01<00:00,  1.15s/it]"
     ]
    },
    {
     "name": "stdout",
     "output_type": "stream",
     "text": [
      "                   all          8          8    0.00333          1      0.547       0.27\n"
     ]
    },
    {
     "name": "stderr",
     "output_type": "stream",
     "text": [
      "\n"
     ]
    },
    {
     "name": "stdout",
     "output_type": "stream",
     "text": [
      "\n",
      "      Epoch    GPU_mem   box_loss   cls_loss   dfl_loss  Instances       Size\n"
     ]
    },
    {
     "name": "stderr",
     "output_type": "stream",
     "text": [
      "       5/50         0G       1.12      1.859       1.49          9        640: 100%|██████████| 6/6 [00:27<00:00,  4.53s/it]\n",
      "                 Class     Images  Instances      Box(P          R      mAP50  mAP50-95): 100%|██████████| 1/1 [00:01<00:00,  1.12s/it]"
     ]
    },
    {
     "name": "stdout",
     "output_type": "stream",
     "text": [
      "                   all          8          8       0.51          1      0.819      0.504\n"
     ]
    },
    {
     "name": "stderr",
     "output_type": "stream",
     "text": [
      "\n"
     ]
    },
    {
     "name": "stdout",
     "output_type": "stream",
     "text": [
      "\n",
      "      Epoch    GPU_mem   box_loss   cls_loss   dfl_loss  Instances       Size\n"
     ]
    },
    {
     "name": "stderr",
     "output_type": "stream",
     "text": [
      "       6/50         0G      1.074      1.759      1.537         11        640: 100%|██████████| 6/6 [00:26<00:00,  4.46s/it]\n",
      "                 Class     Images  Instances      Box(P          R      mAP50  mAP50-95): 100%|██████████| 1/1 [00:01<00:00,  1.09s/it]"
     ]
    },
    {
     "name": "stdout",
     "output_type": "stream",
     "text": [
      "                   all          8          8      0.705      0.601      0.815      0.615\n"
     ]
    },
    {
     "name": "stderr",
     "output_type": "stream",
     "text": [
      "\n"
     ]
    },
    {
     "name": "stdout",
     "output_type": "stream",
     "text": [
      "\n",
      "      Epoch    GPU_mem   box_loss   cls_loss   dfl_loss  Instances       Size\n"
     ]
    },
    {
     "name": "stderr",
     "output_type": "stream",
     "text": [
      "       7/50         0G      1.058      1.668       1.43         10        640: 100%|██████████| 6/6 [00:26<00:00,  4.49s/it]\n",
      "                 Class     Images  Instances      Box(P          R      mAP50  mAP50-95): 100%|██████████| 1/1 [00:01<00:00,  1.12s/it]"
     ]
    },
    {
     "name": "stdout",
     "output_type": "stream",
     "text": [
      "                   all          8          8      0.476       0.25      0.594      0.446\n"
     ]
    },
    {
     "name": "stderr",
     "output_type": "stream",
     "text": [
      "\n"
     ]
    },
    {
     "name": "stdout",
     "output_type": "stream",
     "text": [
      "\n",
      "      Epoch    GPU_mem   box_loss   cls_loss   dfl_loss  Instances       Size\n"
     ]
    },
    {
     "name": "stderr",
     "output_type": "stream",
     "text": [
      "       8/50         0G      1.166      1.683      1.638          6        640: 100%|██████████| 6/6 [00:26<00:00,  4.46s/it]\n",
      "                 Class     Images  Instances      Box(P          R      mAP50  mAP50-95): 100%|██████████| 1/1 [00:01<00:00,  1.07s/it]"
     ]
    },
    {
     "name": "stdout",
     "output_type": "stream",
     "text": [
      "                   all          8          8       0.91      0.125      0.235      0.167\n"
     ]
    },
    {
     "name": "stderr",
     "output_type": "stream",
     "text": [
      "\n"
     ]
    },
    {
     "name": "stdout",
     "output_type": "stream",
     "text": [
      "\n",
      "      Epoch    GPU_mem   box_loss   cls_loss   dfl_loss  Instances       Size\n"
     ]
    },
    {
     "name": "stderr",
     "output_type": "stream",
     "text": [
      "       9/50         0G      1.144      1.604      1.539         11        640: 100%|██████████| 6/6 [00:26<00:00,  4.49s/it]\n",
      "                 Class     Images  Instances      Box(P          R      mAP50  mAP50-95): 100%|██████████| 1/1 [00:01<00:00,  1.07s/it]"
     ]
    },
    {
     "name": "stdout",
     "output_type": "stream",
     "text": [
      "                   all          8          8      0.553      0.625      0.662      0.356\n"
     ]
    },
    {
     "name": "stderr",
     "output_type": "stream",
     "text": [
      "\n"
     ]
    },
    {
     "name": "stdout",
     "output_type": "stream",
     "text": [
      "\n",
      "      Epoch    GPU_mem   box_loss   cls_loss   dfl_loss  Instances       Size\n"
     ]
    },
    {
     "name": "stderr",
     "output_type": "stream",
     "text": [
      "      10/50         0G      1.067      1.591      1.447          9        640: 100%|██████████| 6/6 [00:26<00:00,  4.46s/it]\n",
      "                 Class     Images  Instances      Box(P          R      mAP50  mAP50-95): 100%|██████████| 1/1 [00:01<00:00,  1.19s/it]"
     ]
    },
    {
     "name": "stdout",
     "output_type": "stream",
     "text": [
      "                   all          8          8      0.502        0.5      0.567      0.337\n"
     ]
    },
    {
     "name": "stderr",
     "output_type": "stream",
     "text": [
      "\n"
     ]
    },
    {
     "name": "stdout",
     "output_type": "stream",
     "text": [
      "\n",
      "      Epoch    GPU_mem   box_loss   cls_loss   dfl_loss  Instances       Size\n"
     ]
    },
    {
     "name": "stderr",
     "output_type": "stream",
     "text": [
      "      11/50         0G      0.994        1.5      1.351          8        640: 100%|██████████| 6/6 [00:28<00:00,  4.74s/it]\n",
      "                 Class     Images  Instances      Box(P          R      mAP50  mAP50-95): 100%|██████████| 1/1 [00:01<00:00,  1.16s/it]"
     ]
    },
    {
     "name": "stdout",
     "output_type": "stream",
     "text": [
      "                   all          8          8      0.981      0.625      0.775      0.532\n"
     ]
    },
    {
     "name": "stderr",
     "output_type": "stream",
     "text": [
      "\n"
     ]
    },
    {
     "name": "stdout",
     "output_type": "stream",
     "text": [
      "\n",
      "      Epoch    GPU_mem   box_loss   cls_loss   dfl_loss  Instances       Size\n"
     ]
    },
    {
     "name": "stderr",
     "output_type": "stream",
     "text": [
      "      12/50         0G     0.9954      1.472      1.452          6        640: 100%|██████████| 6/6 [00:29<00:00,  4.90s/it]\n",
      "                 Class     Images  Instances      Box(P          R      mAP50  mAP50-95): 100%|██████████| 1/1 [00:01<00:00,  1.07s/it]"
     ]
    },
    {
     "name": "stdout",
     "output_type": "stream",
     "text": [
      "                   all          8          8      0.997       0.75      0.787      0.556\n"
     ]
    },
    {
     "name": "stderr",
     "output_type": "stream",
     "text": [
      "\n"
     ]
    },
    {
     "name": "stdout",
     "output_type": "stream",
     "text": [
      "\n",
      "      Epoch    GPU_mem   box_loss   cls_loss   dfl_loss  Instances       Size\n"
     ]
    },
    {
     "name": "stderr",
     "output_type": "stream",
     "text": [
      "      13/50         0G      1.045      1.386      1.416         15        640: 100%|██████████| 6/6 [00:29<00:00,  4.88s/it]\n",
      "                 Class     Images  Instances      Box(P          R      mAP50  mAP50-95): 100%|██████████| 1/1 [00:01<00:00,  1.11s/it]"
     ]
    },
    {
     "name": "stdout",
     "output_type": "stream",
     "text": [
      "                   all          8          8      0.846       0.75      0.845      0.495\n"
     ]
    },
    {
     "name": "stderr",
     "output_type": "stream",
     "text": [
      "\n"
     ]
    },
    {
     "name": "stdout",
     "output_type": "stream",
     "text": [
      "\n",
      "      Epoch    GPU_mem   box_loss   cls_loss   dfl_loss  Instances       Size\n"
     ]
    },
    {
     "name": "stderr",
     "output_type": "stream",
     "text": [
      "      14/50         0G      1.031      1.414      1.431          9        640: 100%|██████████| 6/6 [00:29<00:00,  4.94s/it]\n",
      "                 Class     Images  Instances      Box(P          R      mAP50  mAP50-95): 100%|██████████| 1/1 [00:01<00:00,  1.14s/it]"
     ]
    },
    {
     "name": "stdout",
     "output_type": "stream",
     "text": [
      "                   all          8          8      0.922       0.75      0.878      0.506\n"
     ]
    },
    {
     "name": "stderr",
     "output_type": "stream",
     "text": [
      "\n"
     ]
    },
    {
     "name": "stdout",
     "output_type": "stream",
     "text": [
      "\n",
      "      Epoch    GPU_mem   box_loss   cls_loss   dfl_loss  Instances       Size\n"
     ]
    },
    {
     "name": "stderr",
     "output_type": "stream",
     "text": [
      "      15/50         0G     0.9221       1.26      1.318         11        640: 100%|██████████| 6/6 [00:28<00:00,  4.71s/it]\n",
      "                 Class     Images  Instances      Box(P          R      mAP50  mAP50-95): 100%|██████████| 1/1 [00:01<00:00,  1.15s/it]"
     ]
    },
    {
     "name": "stdout",
     "output_type": "stream",
     "text": [
      "                   all          8          8      0.937      0.625      0.866      0.561\n"
     ]
    },
    {
     "name": "stderr",
     "output_type": "stream",
     "text": [
      "\n"
     ]
    },
    {
     "name": "stdout",
     "output_type": "stream",
     "text": [
      "\n",
      "      Epoch    GPU_mem   box_loss   cls_loss   dfl_loss  Instances       Size\n"
     ]
    },
    {
     "name": "stderr",
     "output_type": "stream",
     "text": [
      "      16/50         0G      1.066      1.358       1.41          9        640: 100%|██████████| 6/6 [00:26<00:00,  4.48s/it]\n",
      "                 Class     Images  Instances      Box(P          R      mAP50  mAP50-95): 100%|██████████| 1/1 [00:01<00:00,  1.11s/it]"
     ]
    },
    {
     "name": "stdout",
     "output_type": "stream",
     "text": [
      "                   all          8          8      0.774          1      0.871      0.444\n"
     ]
    },
    {
     "name": "stderr",
     "output_type": "stream",
     "text": [
      "\n"
     ]
    },
    {
     "name": "stdout",
     "output_type": "stream",
     "text": [
      "\n",
      "      Epoch    GPU_mem   box_loss   cls_loss   dfl_loss  Instances       Size\n"
     ]
    },
    {
     "name": "stderr",
     "output_type": "stream",
     "text": [
      "      17/50         0G      0.947      1.247      1.336         11        640: 100%|██████████| 6/6 [00:26<00:00,  4.49s/it]\n",
      "                 Class     Images  Instances      Box(P          R      mAP50  mAP50-95): 100%|██████████| 1/1 [00:01<00:00,  1.10s/it]"
     ]
    },
    {
     "name": "stdout",
     "output_type": "stream",
     "text": [
      "                   all          8          8      0.725      0.989      0.891      0.594\n"
     ]
    },
    {
     "name": "stderr",
     "output_type": "stream",
     "text": [
      "\n"
     ]
    },
    {
     "name": "stdout",
     "output_type": "stream",
     "text": [
      "\n",
      "      Epoch    GPU_mem   box_loss   cls_loss   dfl_loss  Instances       Size\n"
     ]
    },
    {
     "name": "stderr",
     "output_type": "stream",
     "text": [
      "      18/50         0G      1.025       1.27      1.405         12        640: 100%|██████████| 6/6 [00:27<00:00,  4.56s/it]\n",
      "                 Class     Images  Instances      Box(P          R      mAP50  mAP50-95): 100%|██████████| 1/1 [00:01<00:00,  1.11s/it]"
     ]
    },
    {
     "name": "stdout",
     "output_type": "stream",
     "text": [
      "                   all          8          8      0.847      0.875      0.962      0.552\n"
     ]
    },
    {
     "name": "stderr",
     "output_type": "stream",
     "text": [
      "\n"
     ]
    },
    {
     "name": "stdout",
     "output_type": "stream",
     "text": [
      "\n",
      "      Epoch    GPU_mem   box_loss   cls_loss   dfl_loss  Instances       Size\n"
     ]
    },
    {
     "name": "stderr",
     "output_type": "stream",
     "text": [
      "      19/50         0G      1.092      1.334      1.428          8        640: 100%|██████████| 6/6 [00:28<00:00,  4.72s/it]\n",
      "                 Class     Images  Instances      Box(P          R      mAP50  mAP50-95): 100%|██████████| 1/1 [00:01<00:00,  1.13s/it]"
     ]
    },
    {
     "name": "stdout",
     "output_type": "stream",
     "text": [
      "                   all          8          8      0.875      0.875      0.971      0.613\n"
     ]
    },
    {
     "name": "stderr",
     "output_type": "stream",
     "text": [
      "\n"
     ]
    },
    {
     "name": "stdout",
     "output_type": "stream",
     "text": [
      "\n",
      "      Epoch    GPU_mem   box_loss   cls_loss   dfl_loss  Instances       Size\n"
     ]
    },
    {
     "name": "stderr",
     "output_type": "stream",
     "text": [
      "      20/50         0G     0.9555      1.222      1.318         11        640: 100%|██████████| 6/6 [00:27<00:00,  4.51s/it]\n",
      "                 Class     Images  Instances      Box(P          R      mAP50  mAP50-95): 100%|██████████| 1/1 [00:01<00:00,  1.07s/it]"
     ]
    },
    {
     "name": "stdout",
     "output_type": "stream",
     "text": [
      "                   all          8          8      0.923       0.75       0.88       0.42\n"
     ]
    },
    {
     "name": "stderr",
     "output_type": "stream",
     "text": [
      "\n"
     ]
    },
    {
     "name": "stdout",
     "output_type": "stream",
     "text": [
      "\n",
      "      Epoch    GPU_mem   box_loss   cls_loss   dfl_loss  Instances       Size\n"
     ]
    },
    {
     "name": "stderr",
     "output_type": "stream",
     "text": [
      "      21/50         0G      1.059      1.305      1.471          8        640: 100%|██████████| 6/6 [00:28<00:00,  4.73s/it]\n",
      "                 Class     Images  Instances      Box(P          R      mAP50  mAP50-95): 100%|██████████| 1/1 [00:01<00:00,  1.08s/it]"
     ]
    },
    {
     "name": "stdout",
     "output_type": "stream",
     "text": [
      "                   all          8          8       0.84       0.75      0.871      0.544\n"
     ]
    },
    {
     "name": "stderr",
     "output_type": "stream",
     "text": [
      "\n"
     ]
    },
    {
     "name": "stdout",
     "output_type": "stream",
     "text": [
      "\n",
      "      Epoch    GPU_mem   box_loss   cls_loss   dfl_loss  Instances       Size\n"
     ]
    },
    {
     "name": "stderr",
     "output_type": "stream",
     "text": [
      "      22/50         0G      1.029      1.135       1.38         11        640: 100%|██████████| 6/6 [00:27<00:00,  4.59s/it]\n",
      "                 Class     Images  Instances      Box(P          R      mAP50  mAP50-95): 100%|██████████| 1/1 [00:01<00:00,  1.15s/it]"
     ]
    },
    {
     "name": "stdout",
     "output_type": "stream",
     "text": [
      "                   all          8          8      0.997      0.875      0.949      0.563\n"
     ]
    },
    {
     "name": "stderr",
     "output_type": "stream",
     "text": [
      "\n"
     ]
    },
    {
     "name": "stdout",
     "output_type": "stream",
     "text": [
      "\n",
      "      Epoch    GPU_mem   box_loss   cls_loss   dfl_loss  Instances       Size\n"
     ]
    },
    {
     "name": "stderr",
     "output_type": "stream",
     "text": [
      "      23/50         0G      0.896      1.085      1.299         13        640: 100%|██████████| 6/6 [00:29<00:00,  4.91s/it]\n",
      "                 Class     Images  Instances      Box(P          R      mAP50  mAP50-95): 100%|██████████| 1/1 [00:01<00:00,  1.07s/it]"
     ]
    },
    {
     "name": "stdout",
     "output_type": "stream",
     "text": [
      "                   all          8          8      0.725      0.875       0.82      0.526\n"
     ]
    },
    {
     "name": "stderr",
     "output_type": "stream",
     "text": [
      "\n"
     ]
    },
    {
     "name": "stdout",
     "output_type": "stream",
     "text": [
      "\n",
      "      Epoch    GPU_mem   box_loss   cls_loss   dfl_loss  Instances       Size\n"
     ]
    },
    {
     "name": "stderr",
     "output_type": "stream",
     "text": [
      "      24/50         0G     0.9551      1.098       1.36          8        640: 100%|██████████| 6/6 [00:28<00:00,  4.78s/it]\n",
      "                 Class     Images  Instances      Box(P          R      mAP50  mAP50-95): 100%|██████████| 1/1 [00:00<00:00,  1.01it/s]"
     ]
    },
    {
     "name": "stdout",
     "output_type": "stream",
     "text": [
      "                   all          8          8      0.487          1      0.716      0.409\n"
     ]
    },
    {
     "name": "stderr",
     "output_type": "stream",
     "text": [
      "\n"
     ]
    },
    {
     "name": "stdout",
     "output_type": "stream",
     "text": [
      "\n",
      "      Epoch    GPU_mem   box_loss   cls_loss   dfl_loss  Instances       Size\n"
     ]
    },
    {
     "name": "stderr",
     "output_type": "stream",
     "text": [
      "      25/50         0G     0.9096      1.088      1.285          9        640: 100%|██████████| 6/6 [00:29<00:00,  4.95s/it]\n",
      "                 Class     Images  Instances      Box(P          R      mAP50  mAP50-95): 100%|██████████| 1/1 [00:01<00:00,  1.02s/it]"
     ]
    },
    {
     "name": "stdout",
     "output_type": "stream",
     "text": [
      "                   all          8          8      0.759      0.625      0.747      0.428\n"
     ]
    },
    {
     "name": "stderr",
     "output_type": "stream",
     "text": [
      "\n"
     ]
    },
    {
     "name": "stdout",
     "output_type": "stream",
     "text": [
      "\n",
      "      Epoch    GPU_mem   box_loss   cls_loss   dfl_loss  Instances       Size\n"
     ]
    },
    {
     "name": "stderr",
     "output_type": "stream",
     "text": [
      "      26/50         0G     0.9222      1.042      1.294         15        640: 100%|██████████| 6/6 [00:29<00:00,  4.94s/it]\n",
      "                 Class     Images  Instances      Box(P          R      mAP50  mAP50-95): 100%|██████████| 1/1 [00:01<00:00,  1.03s/it]"
     ]
    },
    {
     "name": "stdout",
     "output_type": "stream",
     "text": [
      "                   all          8          8      0.514      0.875      0.765      0.383\n"
     ]
    },
    {
     "name": "stderr",
     "output_type": "stream",
     "text": [
      "\n"
     ]
    },
    {
     "name": "stdout",
     "output_type": "stream",
     "text": [
      "\n",
      "      Epoch    GPU_mem   box_loss   cls_loss   dfl_loss  Instances       Size\n"
     ]
    },
    {
     "name": "stderr",
     "output_type": "stream",
     "text": [
      "      27/50         0G     0.8363     0.9797      1.264          8        640: 100%|██████████| 6/6 [00:29<00:00,  4.96s/it]\n",
      "                 Class     Images  Instances      Box(P          R      mAP50  mAP50-95): 100%|██████████| 1/1 [00:01<00:00,  1.12s/it]"
     ]
    },
    {
     "name": "stdout",
     "output_type": "stream",
     "text": [
      "                   all          8          8      0.677      0.875      0.816      0.513\n"
     ]
    },
    {
     "name": "stderr",
     "output_type": "stream",
     "text": [
      "\n"
     ]
    },
    {
     "name": "stdout",
     "output_type": "stream",
     "text": [
      "\n",
      "      Epoch    GPU_mem   box_loss   cls_loss   dfl_loss  Instances       Size\n"
     ]
    },
    {
     "name": "stderr",
     "output_type": "stream",
     "text": [
      "      28/50         0G     0.8787      1.008      1.259         10        640: 100%|██████████| 6/6 [00:28<00:00,  4.68s/it]\n",
      "                 Class     Images  Instances      Box(P          R      mAP50  mAP50-95): 100%|██████████| 1/1 [00:01<00:00,  1.03s/it]"
     ]
    },
    {
     "name": "stdout",
     "output_type": "stream",
     "text": [
      "                   all          8          8      0.628      0.847      0.777      0.532\n"
     ]
    },
    {
     "name": "stderr",
     "output_type": "stream",
     "text": [
      "\n"
     ]
    },
    {
     "name": "stdout",
     "output_type": "stream",
     "text": [
      "\n",
      "      Epoch    GPU_mem   box_loss   cls_loss   dfl_loss  Instances       Size\n"
     ]
    },
    {
     "name": "stderr",
     "output_type": "stream",
     "text": [
      "      29/50         0G     0.8479     0.9965      1.324          7        640: 100%|██████████| 6/6 [00:27<00:00,  4.57s/it]\n",
      "                 Class     Images  Instances      Box(P          R      mAP50  mAP50-95): 100%|██████████| 1/1 [00:01<00:00,  1.06s/it]"
     ]
    },
    {
     "name": "stdout",
     "output_type": "stream",
     "text": [
      "                   all          8          8      0.611      0.983      0.789      0.481\n"
     ]
    },
    {
     "name": "stderr",
     "output_type": "stream",
     "text": [
      "\n"
     ]
    },
    {
     "name": "stdout",
     "output_type": "stream",
     "text": [
      "\n",
      "      Epoch    GPU_mem   box_loss   cls_loss   dfl_loss  Instances       Size\n"
     ]
    },
    {
     "name": "stderr",
     "output_type": "stream",
     "text": [
      "      30/50         0G     0.6996     0.8803      1.151          7        640: 100%|██████████| 6/6 [00:29<00:00,  4.94s/it]\n",
      "                 Class     Images  Instances      Box(P          R      mAP50  mAP50-95): 100%|██████████| 1/1 [00:01<00:00,  1.03s/it]"
     ]
    },
    {
     "name": "stdout",
     "output_type": "stream",
     "text": [
      "                   all          8          8      0.839       0.75      0.795      0.469\n"
     ]
    },
    {
     "name": "stderr",
     "output_type": "stream",
     "text": [
      "\n"
     ]
    },
    {
     "name": "stdout",
     "output_type": "stream",
     "text": [
      "\n",
      "      Epoch    GPU_mem   box_loss   cls_loss   dfl_loss  Instances       Size\n"
     ]
    },
    {
     "name": "stderr",
     "output_type": "stream",
     "text": [
      "      31/50         0G     0.8497     0.9255      1.262         14        640: 100%|██████████| 6/6 [00:29<00:00,  4.86s/it]\n",
      "                 Class     Images  Instances      Box(P          R      mAP50  mAP50-95): 100%|██████████| 1/1 [00:01<00:00,  1.17s/it]"
     ]
    },
    {
     "name": "stdout",
     "output_type": "stream",
     "text": [
      "                   all          8          8      0.839       0.75      0.802      0.479\n"
     ]
    },
    {
     "name": "stderr",
     "output_type": "stream",
     "text": [
      "\n"
     ]
    },
    {
     "name": "stdout",
     "output_type": "stream",
     "text": [
      "\n",
      "      Epoch    GPU_mem   box_loss   cls_loss   dfl_loss  Instances       Size\n"
     ]
    },
    {
     "name": "stderr",
     "output_type": "stream",
     "text": [
      "      32/50         0G     0.8139     0.8833      1.232          7        640: 100%|██████████| 6/6 [00:29<00:00,  4.93s/it]\n",
      "                 Class     Images  Instances      Box(P          R      mAP50  mAP50-95): 100%|██████████| 1/1 [00:01<00:00,  1.05s/it]"
     ]
    },
    {
     "name": "stdout",
     "output_type": "stream",
     "text": [
      "                   all          8          8      0.696      0.858      0.814      0.584\n"
     ]
    },
    {
     "name": "stderr",
     "output_type": "stream",
     "text": [
      "\n"
     ]
    },
    {
     "name": "stdout",
     "output_type": "stream",
     "text": [
      "\n",
      "      Epoch    GPU_mem   box_loss   cls_loss   dfl_loss  Instances       Size\n"
     ]
    },
    {
     "name": "stderr",
     "output_type": "stream",
     "text": [
      "      33/50         0G     0.8199     0.8744      1.246         12        640: 100%|██████████| 6/6 [00:27<00:00,  4.66s/it]\n",
      "                 Class     Images  Instances      Box(P          R      mAP50  mAP50-95): 100%|██████████| 1/1 [00:01<00:00,  1.06s/it]"
     ]
    },
    {
     "name": "stdout",
     "output_type": "stream",
     "text": [
      "                   all          8          8          1      0.842      0.944      0.671\n"
     ]
    },
    {
     "name": "stderr",
     "output_type": "stream",
     "text": [
      "\n"
     ]
    },
    {
     "name": "stdout",
     "output_type": "stream",
     "text": [
      "\n",
      "      Epoch    GPU_mem   box_loss   cls_loss   dfl_loss  Instances       Size\n"
     ]
    },
    {
     "name": "stderr",
     "output_type": "stream",
     "text": [
      "      34/50         0G      0.784     0.8629      1.261         10        640: 100%|██████████| 6/6 [00:27<00:00,  4.51s/it]\n",
      "                 Class     Images  Instances      Box(P          R      mAP50  mAP50-95): 100%|██████████| 1/1 [00:01<00:00,  1.08s/it]"
     ]
    },
    {
     "name": "stdout",
     "output_type": "stream",
     "text": [
      "                   all          8          8          1      0.961      0.995      0.686\n"
     ]
    },
    {
     "name": "stderr",
     "output_type": "stream",
     "text": [
      "\n"
     ]
    },
    {
     "name": "stdout",
     "output_type": "stream",
     "text": [
      "\n",
      "      Epoch    GPU_mem   box_loss   cls_loss   dfl_loss  Instances       Size\n"
     ]
    },
    {
     "name": "stderr",
     "output_type": "stream",
     "text": [
      "      35/50         0G     0.7832     0.8839      1.229          6        640: 100%|██████████| 6/6 [00:27<00:00,  4.55s/it]\n",
      "                 Class     Images  Instances      Box(P          R      mAP50  mAP50-95): 100%|██████████| 1/1 [00:01<00:00,  1.05s/it]"
     ]
    },
    {
     "name": "stdout",
     "output_type": "stream",
     "text": [
      "                   all          8          8      0.953      0.875      0.982      0.676\n"
     ]
    },
    {
     "name": "stderr",
     "output_type": "stream",
     "text": [
      "\n"
     ]
    },
    {
     "name": "stdout",
     "output_type": "stream",
     "text": [
      "\n",
      "      Epoch    GPU_mem   box_loss   cls_loss   dfl_loss  Instances       Size\n"
     ]
    },
    {
     "name": "stderr",
     "output_type": "stream",
     "text": [
      "      36/50         0G     0.7585     0.8686      1.183          8        640: 100%|██████████| 6/6 [00:27<00:00,  4.66s/it]\n",
      "                 Class     Images  Instances      Box(P          R      mAP50  mAP50-95): 100%|██████████| 1/1 [00:01<00:00,  1.12s/it]"
     ]
    },
    {
     "name": "stdout",
     "output_type": "stream",
     "text": [
      "                   all          8          8          1      0.875      0.962      0.673\n"
     ]
    },
    {
     "name": "stderr",
     "output_type": "stream",
     "text": [
      "\n"
     ]
    },
    {
     "name": "stdout",
     "output_type": "stream",
     "text": [
      "\n",
      "      Epoch    GPU_mem   box_loss   cls_loss   dfl_loss  Instances       Size\n"
     ]
    },
    {
     "name": "stderr",
     "output_type": "stream",
     "text": [
      "      37/50         0G     0.8259     0.9847      1.294          5        640: 100%|██████████| 6/6 [00:27<00:00,  4.57s/it]\n",
      "                 Class     Images  Instances      Box(P          R      mAP50  mAP50-95): 100%|██████████| 1/1 [00:01<00:00,  1.06s/it]"
     ]
    },
    {
     "name": "stdout",
     "output_type": "stream",
     "text": [
      "                   all          8          8      0.985      0.875      0.955      0.631\n"
     ]
    },
    {
     "name": "stderr",
     "output_type": "stream",
     "text": [
      "\n"
     ]
    },
    {
     "name": "stdout",
     "output_type": "stream",
     "text": [
      "\n",
      "      Epoch    GPU_mem   box_loss   cls_loss   dfl_loss  Instances       Size\n"
     ]
    },
    {
     "name": "stderr",
     "output_type": "stream",
     "text": [
      "      38/50         0G     0.7901     0.8626       1.18          7        640: 100%|██████████| 6/6 [00:27<00:00,  4.66s/it]\n",
      "                 Class     Images  Instances      Box(P          R      mAP50  mAP50-95): 100%|██████████| 1/1 [00:01<00:00,  1.05s/it]"
     ]
    },
    {
     "name": "stdout",
     "output_type": "stream",
     "text": [
      "                   all          8          8          1      0.863      0.935      0.685\n"
     ]
    },
    {
     "name": "stderr",
     "output_type": "stream",
     "text": [
      "\n"
     ]
    },
    {
     "name": "stdout",
     "output_type": "stream",
     "text": [
      "\n",
      "      Epoch    GPU_mem   box_loss   cls_loss   dfl_loss  Instances       Size\n"
     ]
    },
    {
     "name": "stderr",
     "output_type": "stream",
     "text": [
      "      39/50         0G     0.7496     0.9164      1.213          6        640: 100%|██████████| 6/6 [00:28<00:00,  4.75s/it]\n",
      "                 Class     Images  Instances      Box(P          R      mAP50  mAP50-95): 100%|██████████| 1/1 [00:01<00:00,  1.05s/it]"
     ]
    },
    {
     "name": "stdout",
     "output_type": "stream",
     "text": [
      "                   all          8          8          1      0.873      0.923      0.769\n"
     ]
    },
    {
     "name": "stderr",
     "output_type": "stream",
     "text": [
      "\n"
     ]
    },
    {
     "name": "stdout",
     "output_type": "stream",
     "text": [
      "\n",
      "      Epoch    GPU_mem   box_loss   cls_loss   dfl_loss  Instances       Size\n"
     ]
    },
    {
     "name": "stderr",
     "output_type": "stream",
     "text": [
      "      40/50         0G     0.7394     0.7925      1.188          8        640: 100%|██████████| 6/6 [00:28<00:00,  4.72s/it]\n",
      "                 Class     Images  Instances      Box(P          R      mAP50  mAP50-95): 100%|██████████| 1/1 [00:01<00:00,  1.11s/it]"
     ]
    },
    {
     "name": "stdout",
     "output_type": "stream",
     "text": [
      "                   all          8          8       0.86      0.875      0.897       0.67\n"
     ]
    },
    {
     "name": "stderr",
     "output_type": "stream",
     "text": [
      "\n"
     ]
    },
    {
     "name": "stdout",
     "output_type": "stream",
     "text": [
      "Closing dataloader mosaic\n",
      "\n",
      "      Epoch    GPU_mem   box_loss   cls_loss   dfl_loss  Instances       Size\n"
     ]
    },
    {
     "name": "stderr",
     "output_type": "stream",
     "text": [
      "      41/50         0G     0.6748      1.041      1.273          4        640: 100%|██████████| 6/6 [00:27<00:00,  4.61s/it]\n",
      "                 Class     Images  Instances      Box(P          R      mAP50  mAP50-95): 100%|██████████| 1/1 [00:01<00:00,  1.10s/it]"
     ]
    },
    {
     "name": "stdout",
     "output_type": "stream",
     "text": [
      "                   all          8          8      0.853      0.875      0.946       0.75\n"
     ]
    },
    {
     "name": "stderr",
     "output_type": "stream",
     "text": [
      "\n"
     ]
    },
    {
     "name": "stdout",
     "output_type": "stream",
     "text": [
      "\n",
      "      Epoch    GPU_mem   box_loss   cls_loss   dfl_loss  Instances       Size\n"
     ]
    },
    {
     "name": "stderr",
     "output_type": "stream",
     "text": [
      "      42/50         0G     0.6479      1.054      1.187          4        640: 100%|██████████| 6/6 [00:27<00:00,  4.57s/it]\n",
      "                 Class     Images  Instances      Box(P          R      mAP50  mAP50-95): 100%|██████████| 1/1 [00:01<00:00,  1.07s/it]"
     ]
    },
    {
     "name": "stdout",
     "output_type": "stream",
     "text": [
      "                   all          8          8      0.995          1      0.995      0.846\n"
     ]
    },
    {
     "name": "stderr",
     "output_type": "stream",
     "text": [
      "\n"
     ]
    },
    {
     "name": "stdout",
     "output_type": "stream",
     "text": [
      "\n",
      "      Epoch    GPU_mem   box_loss   cls_loss   dfl_loss  Instances       Size\n"
     ]
    },
    {
     "name": "stderr",
     "output_type": "stream",
     "text": [
      "      43/50         0G     0.6376     0.9261      1.224          4        640: 100%|██████████| 6/6 [00:27<00:00,  4.51s/it]\n",
      "                 Class     Images  Instances      Box(P          R      mAP50  mAP50-95): 100%|██████████| 1/1 [00:01<00:00,  1.07s/it]"
     ]
    },
    {
     "name": "stdout",
     "output_type": "stream",
     "text": [
      "                   all          8          8      0.992          1      0.995      0.826\n"
     ]
    },
    {
     "name": "stderr",
     "output_type": "stream",
     "text": [
      "\n"
     ]
    },
    {
     "name": "stdout",
     "output_type": "stream",
     "text": [
      "\n",
      "      Epoch    GPU_mem   box_loss   cls_loss   dfl_loss  Instances       Size\n"
     ]
    },
    {
     "name": "stderr",
     "output_type": "stream",
     "text": [
      "      44/50         0G     0.6571     0.9496      1.331          4        640: 100%|██████████| 6/6 [00:27<00:00,  4.59s/it]\n",
      "                 Class     Images  Instances      Box(P          R      mAP50  mAP50-95): 100%|██████████| 1/1 [00:01<00:00,  1.05s/it]"
     ]
    },
    {
     "name": "stdout",
     "output_type": "stream",
     "text": [
      "                   all          8          8       0.99          1      0.995      0.708\n"
     ]
    },
    {
     "name": "stderr",
     "output_type": "stream",
     "text": [
      "\n"
     ]
    },
    {
     "name": "stdout",
     "output_type": "stream",
     "text": [
      "\n",
      "      Epoch    GPU_mem   box_loss   cls_loss   dfl_loss  Instances       Size\n"
     ]
    },
    {
     "name": "stderr",
     "output_type": "stream",
     "text": [
      "      45/50         0G     0.5905     0.9138      1.217          4        640: 100%|██████████| 6/6 [00:26<00:00,  4.49s/it]\n",
      "                 Class     Images  Instances      Box(P          R      mAP50  mAP50-95): 100%|██████████| 1/1 [00:01<00:00,  1.11s/it]"
     ]
    },
    {
     "name": "stdout",
     "output_type": "stream",
     "text": [
      "                   all          8          8       0.99          1      0.995      0.791\n"
     ]
    },
    {
     "name": "stderr",
     "output_type": "stream",
     "text": [
      "\n"
     ]
    },
    {
     "name": "stdout",
     "output_type": "stream",
     "text": [
      "\n",
      "      Epoch    GPU_mem   box_loss   cls_loss   dfl_loss  Instances       Size\n"
     ]
    },
    {
     "name": "stderr",
     "output_type": "stream",
     "text": [
      "      46/50         0G      0.599     0.8951      1.218          4        640: 100%|██████████| 6/6 [00:27<00:00,  4.57s/it]\n",
      "                 Class     Images  Instances      Box(P          R      mAP50  mAP50-95): 100%|██████████| 1/1 [00:01<00:00,  1.10s/it]"
     ]
    },
    {
     "name": "stdout",
     "output_type": "stream",
     "text": [
      "                   all          8          8       0.99          1      0.995      0.905\n"
     ]
    },
    {
     "name": "stderr",
     "output_type": "stream",
     "text": [
      "\n"
     ]
    },
    {
     "name": "stdout",
     "output_type": "stream",
     "text": [
      "\n",
      "      Epoch    GPU_mem   box_loss   cls_loss   dfl_loss  Instances       Size\n"
     ]
    },
    {
     "name": "stderr",
     "output_type": "stream",
     "text": [
      "      47/50         0G     0.5947     0.8061      1.226          4        640: 100%|██████████| 6/6 [00:28<00:00,  4.68s/it]\n",
      "                 Class     Images  Instances      Box(P          R      mAP50  mAP50-95): 100%|██████████| 1/1 [00:01<00:00,  1.03s/it]"
     ]
    },
    {
     "name": "stdout",
     "output_type": "stream",
     "text": [
      "                   all          8          8      0.991          1      0.995       0.89\n"
     ]
    },
    {
     "name": "stderr",
     "output_type": "stream",
     "text": [
      "\n"
     ]
    },
    {
     "name": "stdout",
     "output_type": "stream",
     "text": [
      "\n",
      "      Epoch    GPU_mem   box_loss   cls_loss   dfl_loss  Instances       Size\n"
     ]
    },
    {
     "name": "stderr",
     "output_type": "stream",
     "text": [
      "      48/50         0G     0.4985     0.7564      1.138          4        640: 100%|██████████| 6/6 [00:27<00:00,  4.55s/it]\n",
      "                 Class     Images  Instances      Box(P          R      mAP50  mAP50-95): 100%|██████████| 1/1 [00:01<00:00,  1.12s/it]"
     ]
    },
    {
     "name": "stdout",
     "output_type": "stream",
     "text": [
      "                   all          8          8      0.991          1      0.995      0.895\n"
     ]
    },
    {
     "name": "stderr",
     "output_type": "stream",
     "text": [
      "\n"
     ]
    },
    {
     "name": "stdout",
     "output_type": "stream",
     "text": [
      "\n",
      "      Epoch    GPU_mem   box_loss   cls_loss   dfl_loss  Instances       Size\n"
     ]
    },
    {
     "name": "stderr",
     "output_type": "stream",
     "text": [
      "      49/50         0G     0.5724     0.8377      1.237          4        640: 100%|██████████| 6/6 [00:26<00:00,  4.45s/it]\n",
      "                 Class     Images  Instances      Box(P          R      mAP50  mAP50-95): 100%|██████████| 1/1 [00:01<00:00,  1.07s/it]"
     ]
    },
    {
     "name": "stdout",
     "output_type": "stream",
     "text": [
      "                   all          8          8      0.991          1      0.995       0.87\n"
     ]
    },
    {
     "name": "stderr",
     "output_type": "stream",
     "text": [
      "\n"
     ]
    },
    {
     "name": "stdout",
     "output_type": "stream",
     "text": [
      "\n",
      "      Epoch    GPU_mem   box_loss   cls_loss   dfl_loss  Instances       Size\n"
     ]
    },
    {
     "name": "stderr",
     "output_type": "stream",
     "text": [
      "      50/50         0G     0.5054     0.7233      1.139          4        640: 100%|██████████| 6/6 [00:27<00:00,  4.52s/it]\n",
      "                 Class     Images  Instances      Box(P          R      mAP50  mAP50-95): 100%|██████████| 1/1 [00:01<00:00,  1.07s/it]"
     ]
    },
    {
     "name": "stdout",
     "output_type": "stream",
     "text": [
      "                   all          8          8      0.992          1      0.995      0.856\n"
     ]
    },
    {
     "name": "stderr",
     "output_type": "stream",
     "text": [
      "\n"
     ]
    },
    {
     "name": "stdout",
     "output_type": "stream",
     "text": [
      "\n",
      "50 epochs completed in 0.418 hours.\n",
      "Optimizer stripped from runs\\detect\\train11\\weights\\last.pt, 6.3MB\n",
      "Optimizer stripped from runs\\detect\\train11\\weights\\best.pt, 6.3MB\n",
      "\n",
      "Validating runs\\detect\\train11\\weights\\best.pt...\n",
      "Ultralytics YOLOv8.1.33 🚀 Python-3.11.7 torch-2.2.1+cpu CPU (AMD Ryzen 7 2700X Eight-Core Processor)\n",
      "Model summary (fused): 168 layers, 3005843 parameters, 0 gradients, 8.1 GFLOPs\n"
     ]
    },
    {
     "name": "stderr",
     "output_type": "stream",
     "text": [
      "                 Class     Images  Instances      Box(P          R      mAP50  mAP50-95): 100%|██████████| 1/1 [00:00<00:00,  1.18it/s]\n"
     ]
    },
    {
     "name": "stdout",
     "output_type": "stream",
     "text": [
      "                   all          8          8      0.991          1      0.995      0.905\n",
      "Speed: 1.5ms preprocess, 94.4ms inference, 0.0ms loss, 1.2ms postprocess per image\n",
      "Results saved to \u001b[1mruns\\detect\\train11\u001b[0m\n"
     ]
    }
   ],
   "source": [
    "#Using the model to detect the front doors in the images\n",
    "results = model.train(data=\"config.yaml\", epochs=50) #training the model"
   ]
  },
  {
   "cell_type": "markdown",
   "metadata": {},
   "source": [
    "#  Evaluation"
   ]
  },
  {
   "cell_type": "code",
   "execution_count": 6,
   "metadata": {},
   "outputs": [],
   "source": [
    "import pandas as pd"
   ]
  },
  {
   "cell_type": "code",
   "execution_count": 7,
   "metadata": {},
   "outputs": [],
   "source": [
    "results_df = pd.read_csv('C:/BCAExpertise_MiniProjet/porte_avant/runs/detect/train11/results.csv')"
   ]
  },
  {
   "cell_type": "code",
   "execution_count": 28,
   "metadata": {},
   "outputs": [
    {
     "name": "stdout",
     "output_type": "stream",
     "text": [
      "Index(['                  epoch', '         train/box_loss',\n",
      "       '         train/cls_loss', '         train/dfl_loss',\n",
      "       '   metrics/precision(B)', '      metrics/recall(B)',\n",
      "       '       metrics/mAP50(B)', '    metrics/mAP50-95(B)',\n",
      "       '           val/box_loss', '           val/cls_loss',\n",
      "       '           val/dfl_loss', '                 lr/pg0',\n",
      "       '                 lr/pg1', '                 lr/pg2'],\n",
      "      dtype='object')\n"
     ]
    }
   ],
   "source": [
    "print(results_df.columns)"
   ]
  },
  {
   "cell_type": "code",
   "execution_count": 37,
   "metadata": {},
   "outputs": [
    {
     "name": "stdout",
     "output_type": "stream",
     "text": [
      "Average Precision: 0.7736166\n",
      "Average Recall: 0.8413401999999999\n",
      "Average F1 Score: 0.8060583973110859\n",
      "Average mAP@0.5: 0.8238655999999999\n",
      "Average mAP@0.5-0.95: 0.5630932000000001\n"
     ]
    }
   ],
   "source": [
    "# Calculate the mean of the metrics using their indices\n",
    "average_precision = results_df.iloc[:, 4].mean()\n",
    "average_recall = results_df.iloc[:, 5].mean()\n",
    "average_map_50 = results_df.iloc[:, 6].mean()\n",
    "average_map_50_95 = results_df.iloc[:, 7].mean()\n",
    "# Calculate the F1 score using the precision and recall\n",
    "average_f1_score = 2 * (average_precision * average_recall) / (average_precision + average_recall)\n",
    "# Print out the results\n",
    "print(f\"Average Precision: {average_precision}\")\n",
    "print(f\"Average Recall: {average_recall}\")\n",
    "print(f\"Average F1 Score: {average_f1_score}\")\n",
    "print(f\"Average mAP@0.5: {average_map_50}\")\n",
    "print(f\"Average mAP@0.5-0.95: {average_map_50_95}\")"
   ]
  },
  {
   "cell_type": "markdown",
   "metadata": {},
   "source": [
    "# Deployment"
   ]
  },
  {
   "cell_type": "code",
   "execution_count": 38,
   "metadata": {},
   "outputs": [
    {
     "name": "stdout",
     "output_type": "stream",
     "text": [
      "Collecting gradio\n",
      "  Downloading gradio-4.23.0-py3-none-any.whl.metadata (15 kB)\n",
      "Collecting aiofiles<24.0,>=22.0 (from gradio)\n",
      "  Downloading aiofiles-23.2.1-py3-none-any.whl.metadata (9.7 kB)\n",
      "Requirement already satisfied: altair<6.0,>=4.2.0 in c:\\users\\asmag\\anaconda3\\lib\\site-packages (from gradio) (5.0.1)\n",
      "Collecting fastapi (from gradio)\n",
      "  Downloading fastapi-0.110.0-py3-none-any.whl.metadata (25 kB)\n",
      "Collecting ffmpy (from gradio)\n",
      "  Downloading ffmpy-0.3.2.tar.gz (5.5 kB)\n",
      "  Preparing metadata (setup.py): started\n",
      "  Preparing metadata (setup.py): finished with status 'done'\n",
      "Collecting gradio-client==0.14.0 (from gradio)\n",
      "  Downloading gradio_client-0.14.0-py3-none-any.whl.metadata (7.1 kB)\n",
      "Collecting httpx>=0.24.1 (from gradio)\n",
      "  Downloading httpx-0.27.0-py3-none-any.whl.metadata (7.2 kB)\n",
      "Collecting huggingface-hub>=0.19.3 (from gradio)\n",
      "  Downloading huggingface_hub-0.22.1-py3-none-any.whl.metadata (12 kB)\n",
      "Collecting importlib-resources<7.0,>=1.3 (from gradio)\n",
      "  Downloading importlib_resources-6.4.0-py3-none-any.whl.metadata (3.9 kB)\n",
      "Requirement already satisfied: jinja2<4.0 in c:\\users\\asmag\\anaconda3\\lib\\site-packages (from gradio) (3.1.3)\n",
      "Requirement already satisfied: markupsafe~=2.0 in c:\\users\\asmag\\anaconda3\\lib\\site-packages (from gradio) (2.1.3)\n",
      "Requirement already satisfied: matplotlib~=3.0 in c:\\users\\asmag\\anaconda3\\lib\\site-packages (from gradio) (3.8.0)\n",
      "Requirement already satisfied: numpy~=1.0 in c:\\users\\asmag\\anaconda3\\lib\\site-packages (from gradio) (1.26.4)\n",
      "Collecting orjson~=3.0 (from gradio)\n",
      "  Downloading orjson-3.9.15-cp311-none-win_amd64.whl.metadata (50 kB)\n",
      "     ---------------------------------------- 0.0/50.7 kB ? eta -:--:--\n",
      "     ---------------------------------------- 50.7/50.7 kB 2.5 MB/s eta 0:00:00\n",
      "Requirement already satisfied: packaging in c:\\users\\asmag\\anaconda3\\lib\\site-packages (from gradio) (23.1)\n",
      "Requirement already satisfied: pandas<3.0,>=1.0 in c:\\users\\asmag\\anaconda3\\lib\\site-packages (from gradio) (2.1.4)\n",
      "Requirement already satisfied: pillow<11.0,>=8.0 in c:\\users\\asmag\\anaconda3\\lib\\site-packages (from gradio) (10.2.0)\n",
      "Collecting pydantic>=2.0 (from gradio)\n",
      "  Downloading pydantic-2.6.4-py3-none-any.whl.metadata (85 kB)\n",
      "     ---------------------------------------- 0.0/85.1 kB ? eta -:--:--\n",
      "     ---------------------------------------- 85.1/85.1 kB 4.7 MB/s eta 0:00:00\n",
      "Collecting pydub (from gradio)\n",
      "  Downloading pydub-0.25.1-py2.py3-none-any.whl.metadata (1.4 kB)\n",
      "Collecting python-multipart>=0.0.9 (from gradio)\n",
      "  Downloading python_multipart-0.0.9-py3-none-any.whl.metadata (2.5 kB)\n",
      "Requirement already satisfied: pyyaml<7.0,>=5.0 in c:\\users\\asmag\\anaconda3\\lib\\site-packages (from gradio) (6.0.1)\n",
      "Collecting ruff>=0.2.2 (from gradio)\n",
      "  Downloading ruff-0.3.4-py3-none-win_amd64.whl.metadata (24 kB)\n",
      "Collecting semantic-version~=2.0 (from gradio)\n",
      "  Downloading semantic_version-2.10.0-py2.py3-none-any.whl.metadata (9.7 kB)\n",
      "Collecting tomlkit==0.12.0 (from gradio)\n",
      "  Downloading tomlkit-0.12.0-py3-none-any.whl.metadata (2.7 kB)\n",
      "Collecting typer<1.0,>=0.9 (from typer[all]<1.0,>=0.9->gradio)\n",
      "  Downloading typer-0.10.0-py3-none-any.whl.metadata (14 kB)\n",
      "Requirement already satisfied: typing-extensions~=4.0 in c:\\users\\asmag\\anaconda3\\lib\\site-packages (from gradio) (4.9.0)\n",
      "Collecting uvicorn>=0.14.0 (from gradio)\n",
      "  Downloading uvicorn-0.29.0-py3-none-any.whl.metadata (6.3 kB)\n",
      "Requirement already satisfied: fsspec in c:\\users\\asmag\\anaconda3\\lib\\site-packages (from gradio-client==0.14.0->gradio) (2023.10.0)\n",
      "Collecting websockets<12.0,>=10.0 (from gradio-client==0.14.0->gradio)\n",
      "  Downloading websockets-11.0.3-cp311-cp311-win_amd64.whl.metadata (6.8 kB)\n",
      "Requirement already satisfied: jsonschema>=3.0 in c:\\users\\asmag\\anaconda3\\lib\\site-packages (from altair<6.0,>=4.2.0->gradio) (4.19.2)\n",
      "Requirement already satisfied: toolz in c:\\users\\asmag\\anaconda3\\lib\\site-packages (from altair<6.0,>=4.2.0->gradio) (0.12.0)\n",
      "Requirement already satisfied: anyio in c:\\users\\asmag\\anaconda3\\lib\\site-packages (from httpx>=0.24.1->gradio) (4.2.0)\n",
      "Requirement already satisfied: certifi in c:\\users\\asmag\\anaconda3\\lib\\site-packages (from httpx>=0.24.1->gradio) (2023.7.22)\n",
      "Collecting httpcore==1.* (from httpx>=0.24.1->gradio)\n",
      "  Downloading httpcore-1.0.4-py3-none-any.whl.metadata (20 kB)\n",
      "Requirement already satisfied: idna in c:\\users\\asmag\\anaconda3\\lib\\site-packages (from httpx>=0.24.1->gradio) (2.10)\n",
      "Requirement already satisfied: sniffio in c:\\users\\asmag\\anaconda3\\lib\\site-packages (from httpx>=0.24.1->gradio) (1.3.0)\n",
      "Collecting h11<0.15,>=0.13 (from httpcore==1.*->httpx>=0.24.1->gradio)\n",
      "  Downloading h11-0.14.0-py3-none-any.whl.metadata (8.2 kB)\n",
      "Requirement already satisfied: filelock in c:\\users\\asmag\\anaconda3\\lib\\site-packages (from huggingface-hub>=0.19.3->gradio) (3.13.1)\n",
      "Requirement already satisfied: requests in c:\\users\\asmag\\anaconda3\\lib\\site-packages (from huggingface-hub>=0.19.3->gradio) (2.31.0)\n",
      "Requirement already satisfied: tqdm>=4.42.1 in c:\\users\\asmag\\anaconda3\\lib\\site-packages (from huggingface-hub>=0.19.3->gradio) (4.65.0)\n",
      "Requirement already satisfied: contourpy>=1.0.1 in c:\\users\\asmag\\anaconda3\\lib\\site-packages (from matplotlib~=3.0->gradio) (1.2.0)\n",
      "Requirement already satisfied: cycler>=0.10 in c:\\users\\asmag\\anaconda3\\lib\\site-packages (from matplotlib~=3.0->gradio) (0.10.0)\n",
      "Requirement already satisfied: fonttools>=4.22.0 in c:\\users\\asmag\\anaconda3\\lib\\site-packages (from matplotlib~=3.0->gradio) (4.25.0)\n",
      "Requirement already satisfied: kiwisolver>=1.0.1 in c:\\users\\asmag\\anaconda3\\lib\\site-packages (from matplotlib~=3.0->gradio) (1.4.4)\n",
      "Requirement already satisfied: pyparsing>=2.3.1 in c:\\users\\asmag\\anaconda3\\lib\\site-packages (from matplotlib~=3.0->gradio) (3.0.9)\n",
      "Requirement already satisfied: python-dateutil>=2.7 in c:\\users\\asmag\\anaconda3\\lib\\site-packages (from matplotlib~=3.0->gradio) (2.8.2)\n",
      "Requirement already satisfied: pytz>=2020.1 in c:\\users\\asmag\\anaconda3\\lib\\site-packages (from pandas<3.0,>=1.0->gradio) (2023.3.post1)\n",
      "Requirement already satisfied: tzdata>=2022.1 in c:\\users\\asmag\\anaconda3\\lib\\site-packages (from pandas<3.0,>=1.0->gradio) (2023.3)\n",
      "Collecting annotated-types>=0.4.0 (from pydantic>=2.0->gradio)\n",
      "  Downloading annotated_types-0.6.0-py3-none-any.whl.metadata (12 kB)\n",
      "Collecting pydantic-core==2.16.3 (from pydantic>=2.0->gradio)\n",
      "  Downloading pydantic_core-2.16.3-cp311-none-win_amd64.whl.metadata (6.6 kB)\n",
      "Requirement already satisfied: click<9.0.0,>=7.1.1 in c:\\users\\asmag\\anaconda3\\lib\\site-packages (from typer<1.0,>=0.9->typer[all]<1.0,>=0.9->gradio) (8.1.7)\n",
      "Requirement already satisfied: colorama<0.5.0,>=0.4.3 in c:\\users\\asmag\\anaconda3\\lib\\site-packages (from typer[all]<1.0,>=0.9->gradio) (0.4.6)\n",
      "Collecting shellingham<2.0.0,>=1.3.0 (from typer[all]<1.0,>=0.9->gradio)\n",
      "  Downloading shellingham-1.5.4-py2.py3-none-any.whl.metadata (3.5 kB)\n",
      "Requirement already satisfied: rich<14.0.0,>=10.11.0 in c:\\users\\asmag\\anaconda3\\lib\\site-packages (from typer[all]<1.0,>=0.9->gradio) (13.3.5)\n",
      "Collecting starlette<0.37.0,>=0.36.3 (from fastapi->gradio)\n",
      "  Downloading starlette-0.36.3-py3-none-any.whl.metadata (5.9 kB)\n",
      "Requirement already satisfied: six in c:\\users\\asmag\\anaconda3\\lib\\site-packages (from cycler>=0.10->matplotlib~=3.0->gradio) (1.16.0)\n",
      "Requirement already satisfied: attrs>=22.2.0 in c:\\users\\asmag\\anaconda3\\lib\\site-packages (from jsonschema>=3.0->altair<6.0,>=4.2.0->gradio) (23.1.0)\n",
      "Requirement already satisfied: jsonschema-specifications>=2023.03.6 in c:\\users\\asmag\\anaconda3\\lib\\site-packages (from jsonschema>=3.0->altair<6.0,>=4.2.0->gradio) (2023.7.1)\n",
      "Requirement already satisfied: referencing>=0.28.4 in c:\\users\\asmag\\anaconda3\\lib\\site-packages (from jsonschema>=3.0->altair<6.0,>=4.2.0->gradio) (0.30.2)\n",
      "Requirement already satisfied: rpds-py>=0.7.1 in c:\\users\\asmag\\anaconda3\\lib\\site-packages (from jsonschema>=3.0->altair<6.0,>=4.2.0->gradio) (0.10.6)\n",
      "Requirement already satisfied: markdown-it-py<3.0.0,>=2.2.0 in c:\\users\\asmag\\anaconda3\\lib\\site-packages (from rich<14.0.0,>=10.11.0->typer[all]<1.0,>=0.9->gradio) (2.2.0)\n",
      "Requirement already satisfied: pygments<3.0.0,>=2.13.0 in c:\\users\\asmag\\anaconda3\\lib\\site-packages (from rich<14.0.0,>=10.11.0->typer[all]<1.0,>=0.9->gradio) (2.15.1)\n",
      "Requirement already satisfied: charset-normalizer<4,>=2 in c:\\users\\asmag\\anaconda3\\lib\\site-packages (from requests->huggingface-hub>=0.19.3->gradio) (2.0.4)\n",
      "Requirement already satisfied: urllib3<3,>=1.21.1 in c:\\users\\asmag\\anaconda3\\lib\\site-packages (from requests->huggingface-hub>=0.19.3->gradio) (2.0.7)\n",
      "Requirement already satisfied: mdurl~=0.1 in c:\\users\\asmag\\anaconda3\\lib\\site-packages (from markdown-it-py<3.0.0,>=2.2.0->rich<14.0.0,>=10.11.0->typer[all]<1.0,>=0.9->gradio) (0.1.0)\n",
      "Downloading gradio-4.23.0-py3-none-any.whl (17.1 MB)\n",
      "   ---------------------------------------- 0.0/17.1 MB ? eta -:--:--\n",
      "    --------------------------------------- 0.4/17.1 MB 12.5 MB/s eta 0:00:02\n",
      "   -- ------------------------------------- 1.0/17.1 MB 10.3 MB/s eta 0:00:02\n",
      "   --- ------------------------------------ 1.5/17.1 MB 10.2 MB/s eta 0:00:02\n",
      "   ---- ----------------------------------- 2.1/17.1 MB 11.2 MB/s eta 0:00:02\n",
      "   ------ --------------------------------- 2.7/17.1 MB 12.1 MB/s eta 0:00:02\n",
      "   ------- -------------------------------- 3.4/17.1 MB 12.0 MB/s eta 0:00:02\n",
      "   --------- ------------------------------ 4.2/17.1 MB 13.3 MB/s eta 0:00:01\n",
      "   ---------- ----------------------------- 4.5/17.1 MB 12.6 MB/s eta 0:00:01\n",
      "   ----------- ---------------------------- 4.9/17.1 MB 12.1 MB/s eta 0:00:02\n",
      "   ------------ --------------------------- 5.4/17.1 MB 12.0 MB/s eta 0:00:01\n",
      "   ------------- -------------------------- 5.9/17.1 MB 11.9 MB/s eta 0:00:01\n",
      "   -------------- ------------------------- 6.4/17.1 MB 11.6 MB/s eta 0:00:01\n",
      "   --------------- ------------------------ 6.8/17.1 MB 11.4 MB/s eta 0:00:01\n",
      "   ---------------- ----------------------- 7.2/17.1 MB 11.3 MB/s eta 0:00:01\n",
      "   ------------------ --------------------- 7.8/17.1 MB 11.3 MB/s eta 0:00:01\n",
      "   ------------------- -------------------- 8.3/17.1 MB 11.2 MB/s eta 0:00:01\n",
      "   -------------------- ------------------- 8.7/17.1 MB 11.1 MB/s eta 0:00:01\n",
      "   --------------------- ------------------ 9.1/17.1 MB 11.0 MB/s eta 0:00:01\n",
      "   ---------------------- ----------------- 9.4/17.1 MB 10.7 MB/s eta 0:00:01\n",
      "   ---------------------- ----------------- 9.7/17.1 MB 10.5 MB/s eta 0:00:01\n",
      "   ----------------------- ---------------- 10.1/17.1 MB 10.4 MB/s eta 0:00:01\n",
      "   ------------------------ --------------- 10.5/17.1 MB 10.4 MB/s eta 0:00:01\n",
      "   ------------------------- -------------- 10.8/17.1 MB 10.4 MB/s eta 0:00:01\n",
      "   -------------------------- ------------- 11.2/17.1 MB 10.1 MB/s eta 0:00:01\n",
      "   --------------------------- ------------ 11.7/17.1 MB 10.1 MB/s eta 0:00:01\n",
      "   ----------------------------- ---------- 12.5/17.1 MB 10.1 MB/s eta 0:00:01\n",
      "   ------------------------------ --------- 13.2/17.1 MB 10.2 MB/s eta 0:00:01\n",
      "   -------------------------------- ------- 13.8/17.1 MB 10.1 MB/s eta 0:00:01\n",
      "   ---------------------------------- ----- 14.6/17.1 MB 10.1 MB/s eta 0:00:01\n",
      "   ----------------------------------- ---- 15.1/17.1 MB 10.4 MB/s eta 0:00:01\n",
      "   ------------------------------------ --- 15.8/17.1 MB 10.6 MB/s eta 0:00:01\n",
      "   -------------------------------------- - 16.5/17.1 MB 10.9 MB/s eta 0:00:01\n",
      "   ---------------------------------------  17.1/17.1 MB 11.3 MB/s eta 0:00:01\n",
      "   ---------------------------------------  17.1/17.1 MB 11.3 MB/s eta 0:00:01\n",
      "   ---------------------------------------- 17.1/17.1 MB 10.5 MB/s eta 0:00:00\n",
      "Downloading gradio_client-0.14.0-py3-none-any.whl (312 kB)\n",
      "   ---------------------------------------- 0.0/312.4 kB ? eta -:--:--\n",
      "   ---------------------------------------- 312.4/312.4 kB 9.7 MB/s eta 0:00:00\n",
      "Downloading tomlkit-0.12.0-py3-none-any.whl (37 kB)\n",
      "Downloading aiofiles-23.2.1-py3-none-any.whl (15 kB)\n",
      "Downloading httpx-0.27.0-py3-none-any.whl (75 kB)\n",
      "   ---------------------------------------- 0.0/75.6 kB ? eta -:--:--\n",
      "   ---------------------------------------- 75.6/75.6 kB 4.1 MB/s eta 0:00:00\n",
      "Downloading httpcore-1.0.4-py3-none-any.whl (77 kB)\n",
      "   ---------------------------------------- 0.0/77.8 kB ? eta -:--:--\n",
      "   ---------------------------------------- 77.8/77.8 kB 4.5 MB/s eta 0:00:00\n",
      "Downloading huggingface_hub-0.22.1-py3-none-any.whl (388 kB)\n",
      "   ---------------------------------------- 0.0/388.6 kB ? eta -:--:--\n",
      "   --------------------------------------  378.9/388.6 kB 11.9 MB/s eta 0:00:01\n",
      "   ---------------------------------------- 388.6/388.6 kB 8.1 MB/s eta 0:00:00\n",
      "Downloading importlib_resources-6.4.0-py3-none-any.whl (38 kB)\n",
      "Downloading orjson-3.9.15-cp311-none-win_amd64.whl (136 kB)\n",
      "   ---------------------------------------- 0.0/136.0 kB ? eta -:--:--\n",
      "   ---------------------------------------- 136.0/136.0 kB 7.9 MB/s eta 0:00:00\n",
      "Downloading pydantic-2.6.4-py3-none-any.whl (394 kB)\n",
      "   ---------------------------------------- 0.0/394.9 kB ? eta -:--:--\n",
      "   --------------------------------------- 394.9/394.9 kB 12.0 MB/s eta 0:00:00\n",
      "Downloading pydantic_core-2.16.3-cp311-none-win_amd64.whl (1.9 MB)\n",
      "   ---------------------------------------- 0.0/1.9 MB ? eta -:--:--\n",
      "   ---------------- ----------------------- 0.8/1.9 MB 16.3 MB/s eta 0:00:01\n",
      "   --------------------------- ------------ 1.3/1.9 MB 13.8 MB/s eta 0:00:01\n",
      "   ---------------------------------------  1.9/1.9 MB 13.2 MB/s eta 0:00:01\n",
      "   ---------------------------------------- 1.9/1.9 MB 12.0 MB/s eta 0:00:00\n",
      "Downloading python_multipart-0.0.9-py3-none-any.whl (22 kB)\n",
      "Downloading ruff-0.3.4-py3-none-win_amd64.whl (8.4 MB)\n",
      "   ---------------------------------------- 0.0/8.4 MB ? eta -:--:--\n",
      "   -- ------------------------------------- 0.5/8.4 MB 16.6 MB/s eta 0:00:01\n",
      "   ------ --------------------------------- 1.4/8.4 MB 17.7 MB/s eta 0:00:01\n",
      "   ---------- ----------------------------- 2.2/8.4 MB 17.3 MB/s eta 0:00:01\n",
      "   ------------- -------------------------- 2.9/8.4 MB 17.0 MB/s eta 0:00:01\n",
      "   ----------------- ---------------------- 3.7/8.4 MB 16.9 MB/s eta 0:00:01\n",
      "   -------------------- ------------------- 4.4/8.4 MB 16.4 MB/s eta 0:00:01\n",
      "   ----------------------- ---------------- 5.0/8.4 MB 16.1 MB/s eta 0:00:01\n",
      "   --------------------------- ------------ 5.8/8.4 MB 16.0 MB/s eta 0:00:01\n",
      "   ------------------------------ --------- 6.5/8.4 MB 16.6 MB/s eta 0:00:01\n",
      "   ---------------------------------- ----- 7.3/8.4 MB 16.6 MB/s eta 0:00:01\n",
      "   -------------------------------------- - 8.1/8.4 MB 16.6 MB/s eta 0:00:01\n",
      "   ---------------------------------------  8.4/8.4 MB 16.3 MB/s eta 0:00:01\n",
      "   ---------------------------------------- 8.4/8.4 MB 15.0 MB/s eta 0:00:00\n",
      "Downloading semantic_version-2.10.0-py2.py3-none-any.whl (15 kB)\n",
      "Downloading typer-0.10.0-py3-none-any.whl (46 kB)\n",
      "   ---------------------------------------- 0.0/46.0 kB ? eta -:--:--\n",
      "   ---------------------------------------- 46.0/46.0 kB 2.2 MB/s eta 0:00:00\n",
      "Downloading uvicorn-0.29.0-py3-none-any.whl (60 kB)\n",
      "   ---------------------------------------- 0.0/60.8 kB ? eta -:--:--\n",
      "   ---------------------------------------- 60.8/60.8 kB 3.2 MB/s eta 0:00:00\n",
      "Downloading fastapi-0.110.0-py3-none-any.whl (92 kB)\n",
      "   ---------------------------------------- 0.0/92.1 kB ? eta -:--:--\n",
      "   ---------------------------------------- 92.1/92.1 kB 5.5 MB/s eta 0:00:00\n",
      "Downloading pydub-0.25.1-py2.py3-none-any.whl (32 kB)\n",
      "Downloading annotated_types-0.6.0-py3-none-any.whl (12 kB)\n",
      "Downloading h11-0.14.0-py3-none-any.whl (58 kB)\n",
      "   ---------------------------------------- 0.0/58.3 kB ? eta -:--:--\n",
      "   ---------------------------------------- 58.3/58.3 kB ? eta 0:00:00\n",
      "Downloading shellingham-1.5.4-py2.py3-none-any.whl (9.8 kB)\n",
      "Downloading starlette-0.36.3-py3-none-any.whl (71 kB)\n",
      "   ---------------------------------------- 0.0/71.5 kB ? eta -:--:--\n",
      "   ---------------------------------------- 71.5/71.5 kB 3.8 MB/s eta 0:00:00\n",
      "Downloading websockets-11.0.3-cp311-cp311-win_amd64.whl (124 kB)\n",
      "   ---------------------------------------- 0.0/124.7 kB ? eta -:--:--\n",
      "   ---------------------------------------- 124.7/124.7 kB 7.6 MB/s eta 0:00:00\n",
      "Building wheels for collected packages: ffmpy\n",
      "  Building wheel for ffmpy (setup.py): started\n",
      "  Building wheel for ffmpy (setup.py): finished with status 'done'\n",
      "  Created wheel for ffmpy: filename=ffmpy-0.3.2-py3-none-any.whl size=5605 sha256=898eb0a16af813433de4b8578a6f26d9aae9bac15918afc3c533999865c8312c\n",
      "  Stored in directory: c:\\users\\asmag\\appdata\\local\\pip\\cache\\wheels\\55\\3c\\f2\\f6e34046bac0d57c13c7d08123b85872423b89c8f59bafda51\n",
      "Successfully built ffmpy\n",
      "Installing collected packages: pydub, ffmpy, websockets, tomlkit, shellingham, semantic-version, ruff, python-multipart, pydantic-core, orjson, importlib-resources, h11, annotated-types, aiofiles, uvicorn, typer, starlette, pydantic, huggingface-hub, httpcore, httpx, fastapi, gradio-client, gradio\n",
      "  Attempting uninstall: tomlkit\n",
      "    Found existing installation: tomlkit 0.11.1\n",
      "    Uninstalling tomlkit-0.11.1:\n",
      "      Successfully uninstalled tomlkit-0.11.1\n",
      "  Attempting uninstall: pydantic\n",
      "    Found existing installation: pydantic 1.10.12\n",
      "    Uninstalling pydantic-1.10.12:\n",
      "      Successfully uninstalled pydantic-1.10.12\n",
      "Successfully installed aiofiles-23.2.1 annotated-types-0.6.0 fastapi-0.110.0 ffmpy-0.3.2 gradio-4.23.0 gradio-client-0.14.0 h11-0.14.0 httpcore-1.0.4 httpx-0.27.0 huggingface-hub-0.22.1 importlib-resources-6.4.0 orjson-3.9.15 pydantic-2.6.4 pydantic-core-2.16.3 pydub-0.25.1 python-multipart-0.0.9 ruff-0.3.4 semantic-version-2.10.0 shellingham-1.5.4 starlette-0.36.3 tomlkit-0.12.0 typer-0.10.0 uvicorn-0.29.0 websockets-11.0.3\n"
     ]
    },
    {
     "name": "stderr",
     "output_type": "stream",
     "text": [
      "ERROR: pip's dependency resolver does not currently take into account all the packages that are installed. This behaviour is the source of the following dependency conflicts.\n",
      "anaconda-cloud-auth 0.1.4 requires pydantic<2.0, but you have pydantic 2.6.4 which is incompatible.\n"
     ]
    }
   ],
   "source": [
    "! pip install gradio"
   ]
  },
  {
   "cell_type": "code",
   "execution_count": 76,
   "metadata": {},
   "outputs": [],
   "source": [
    "import gradio as gr\n",
    "from PIL import Image\n",
    "import torch\n",
    "import numpy as np\n"
   ]
  },
  {
   "cell_type": "code",
   "execution_count": 77,
   "metadata": {},
   "outputs": [
    {
     "name": "stdout",
     "output_type": "stream",
     "text": [
      "4.23.0\n"
     ]
    }
   ],
   "source": [
    "import gradio as gr\n",
    "print(gr.__version__)"
   ]
  },
  {
   "cell_type": "code",
   "execution_count": 78,
   "metadata": {},
   "outputs": [],
   "source": [
    "# Load the YOLOv8 model with your custom weights\n",
    "trained_model = YOLO('C:/BCAExpertise_MiniProjet/porte_avant/runs/detect/train11/weights/best.pt')  # make sure the path is correct\n"
   ]
  },
  {
   "cell_type": "code",
   "execution_count": 98,
   "metadata": {},
   "outputs": [],
   "source": [
    "#def predict(image):\n",
    "    # Convert PIL Image to numpy array\n",
    "    #img = np.array(image)\n",
    "\n",
    "    # Perform inference\n",
    "    #new_results = trained_model(img)\n",
    "\n",
    "    # Convert inference results to the annotated image\n",
    "    # Assuming your results object has a render() method\n",
    "    # that returns a list of images with bounding boxes drawn\n",
    "    #annotated_image = new_results.render()[0]\n",
    "\n",
    "    # Convert numpy array back to PIL Image\n",
    "    #annotated_image = Image.fromarray(annotated_image)\n",
    "    #return annotated_image\n",
    "    \n"
   ]
  },
  {
   "cell_type": "code",
   "execution_count": 99,
   "metadata": {},
   "outputs": [
    {
     "name": "stdout",
     "output_type": "stream",
     "text": [
      "Running on local URL:  http://127.0.0.1:7870\n",
      "\n",
      "To create a public link, set `share=True` in `launch()`.\n"
     ]
    },
    {
     "data": {
      "text/html": [
       "<div><iframe src=\"http://127.0.0.1:7870/\" width=\"100%\" height=\"500\" allow=\"autoplay; camera; microphone; clipboard-read; clipboard-write;\" frameborder=\"0\" allowfullscreen></iframe></div>"
      ],
      "text/plain": [
       "<IPython.core.display.HTML object>"
      ]
     },
     "metadata": {},
     "output_type": "display_data"
    },
    {
     "data": {
      "text/plain": []
     },
     "execution_count": 99,
     "metadata": {},
     "output_type": "execute_result"
    },
    {
     "name": "stderr",
     "output_type": "stream",
     "text": [
      "ERROR:    Exception in ASGI application\n",
      "  + Exception Group Traceback (most recent call last):\n",
      "  |   File \"c:\\Users\\asmag\\anaconda3\\Lib\\site-packages\\starlette\\middleware\\base.py\", line 192, in __call__\n",
      "  |     await response(scope, wrapped_receive, send)\n",
      "  |   File \"c:\\Users\\asmag\\anaconda3\\Lib\\site-packages\\starlette\\responses.py\", line 257, in __call__\n",
      "  |     async with anyio.create_task_group() as task_group:\n",
      "  |   File \"c:\\Users\\asmag\\anaconda3\\Lib\\site-packages\\anyio\\_backends\\_asyncio.py\", line 678, in __aexit__\n",
      "  |     raise BaseExceptionGroup(\n",
      "  | ExceptionGroup: unhandled errors in a TaskGroup (1 sub-exception)\n",
      "  +-+---------------- 1 ----------------\n",
      "    | Traceback (most recent call last):\n",
      "    |   File \"c:\\Users\\asmag\\anaconda3\\Lib\\site-packages\\uvicorn\\protocols\\http\\h11_impl.py\", line 407, in run_asgi\n",
      "    |     result = await app(  # type: ignore[func-returns-value]\n",
      "    |              ^^^^^^^^^^^^^^^^^^^^^^^^^^^^^^^^^^^^^^^^^^^^^^\n",
      "    |   File \"c:\\Users\\asmag\\anaconda3\\Lib\\site-packages\\uvicorn\\middleware\\proxy_headers.py\", line 69, in __call__\n",
      "    |     return await self.app(scope, receive, send)\n",
      "    |            ^^^^^^^^^^^^^^^^^^^^^^^^^^^^^^^^^^^^\n",
      "    |   File \"c:\\Users\\asmag\\anaconda3\\Lib\\site-packages\\fastapi\\applications.py\", line 1054, in __call__\n",
      "    |     await super().__call__(scope, receive, send)\n",
      "    |   File \"c:\\Users\\asmag\\anaconda3\\Lib\\site-packages\\starlette\\applications.py\", line 123, in __call__\n",
      "    |     await self.middleware_stack(scope, receive, send)\n",
      "    |   File \"c:\\Users\\asmag\\anaconda3\\Lib\\site-packages\\starlette\\middleware\\errors.py\", line 186, in __call__\n",
      "    |     raise exc\n",
      "    |   File \"c:\\Users\\asmag\\anaconda3\\Lib\\site-packages\\starlette\\middleware\\errors.py\", line 164, in __call__\n",
      "    |     await self.app(scope, receive, _send)\n",
      "    |   File \"c:\\Users\\asmag\\anaconda3\\Lib\\site-packages\\starlette\\middleware\\base.py\", line 189, in __call__\n",
      "    |     with collapse_excgroups():\n",
      "    |   File \"c:\\Users\\asmag\\anaconda3\\Lib\\contextlib.py\", line 158, in __exit__\n",
      "    |     self.gen.throw(typ, value, traceback)\n",
      "    |   File \"c:\\Users\\asmag\\anaconda3\\Lib\\site-packages\\starlette\\_utils.py\", line 93, in collapse_excgroups\n",
      "    |     raise exc\n",
      "    |   File \"c:\\Users\\asmag\\anaconda3\\Lib\\site-packages\\starlette\\responses.py\", line 260, in wrap\n",
      "    |     await func()\n",
      "    |   File \"c:\\Users\\asmag\\anaconda3\\Lib\\site-packages\\starlette\\middleware\\base.py\", line 217, in stream_response\n",
      "    |     return await super().stream_response(send)\n",
      "    |            ^^^^^^^^^^^^^^^^^^^^^^^^^^^^^^^^^^^\n",
      "    |   File \"c:\\Users\\asmag\\anaconda3\\Lib\\site-packages\\starlette\\responses.py\", line 254, in stream_response\n",
      "    |     await send({\"type\": \"http.response.body\", \"body\": b\"\", \"more_body\": False})\n",
      "    |   File \"c:\\Users\\asmag\\anaconda3\\Lib\\site-packages\\starlette\\middleware\\errors.py\", line 161, in _send\n",
      "    |     await send(message)\n",
      "    |   File \"c:\\Users\\asmag\\anaconda3\\Lib\\site-packages\\uvicorn\\protocols\\http\\h11_impl.py\", line 511, in send\n",
      "    |     output = self.conn.send(event=h11.EndOfMessage())\n",
      "    |              ^^^^^^^^^^^^^^^^^^^^^^^^^^^^^^^^^^^^^^^^\n",
      "    |   File \"c:\\Users\\asmag\\anaconda3\\Lib\\site-packages\\h11\\_connection.py\", line 512, in send\n",
      "    |     data_list = self.send_with_data_passthrough(event)\n",
      "    |                 ^^^^^^^^^^^^^^^^^^^^^^^^^^^^^^^^^^^^^^\n",
      "    |   File \"c:\\Users\\asmag\\anaconda3\\Lib\\site-packages\\h11\\_connection.py\", line 545, in send_with_data_passthrough\n",
      "    |     writer(event, data_list.append)\n",
      "    |   File \"c:\\Users\\asmag\\anaconda3\\Lib\\site-packages\\h11\\_writers.py\", line 67, in __call__\n",
      "    |     self.send_eom(event.headers, write)\n",
      "    |   File \"c:\\Users\\asmag\\anaconda3\\Lib\\site-packages\\h11\\_writers.py\", line 96, in send_eom\n",
      "    |     raise LocalProtocolError(\"Too little data for declared Content-Length\")\n",
      "    | h11._util.LocalProtocolError: Too little data for declared Content-Length\n",
      "    +------------------------------------\n",
      "\n",
      "During handling of the above exception, another exception occurred:\n",
      "\n",
      "  + Exception Group Traceback (most recent call last):\n",
      "  |   File \"c:\\Users\\asmag\\anaconda3\\Lib\\site-packages\\starlette\\_utils.py\", line 87, in collapse_excgroups\n",
      "  |     yield\n",
      "  |   File \"c:\\Users\\asmag\\anaconda3\\Lib\\site-packages\\starlette\\middleware\\base.py\", line 190, in __call__\n",
      "  |     async with anyio.create_task_group() as task_group:\n",
      "  |   File \"c:\\Users\\asmag\\anaconda3\\Lib\\site-packages\\anyio\\_backends\\_asyncio.py\", line 678, in __aexit__\n",
      "  |     raise BaseExceptionGroup(\n",
      "  | ExceptionGroup: unhandled errors in a TaskGroup (1 sub-exception)\n",
      "  +-+---------------- 1 ----------------\n",
      "    | Exception Group Traceback (most recent call last):\n",
      "    |   File \"c:\\Users\\asmag\\anaconda3\\Lib\\site-packages\\starlette\\middleware\\base.py\", line 192, in __call__\n",
      "    |     await response(scope, wrapped_receive, send)\n",
      "    |   File \"c:\\Users\\asmag\\anaconda3\\Lib\\site-packages\\starlette\\responses.py\", line 257, in __call__\n",
      "    |     async with anyio.create_task_group() as task_group:\n",
      "    |   File \"c:\\Users\\asmag\\anaconda3\\Lib\\site-packages\\anyio\\_backends\\_asyncio.py\", line 678, in __aexit__\n",
      "    |     raise BaseExceptionGroup(\n",
      "    | ExceptionGroup: unhandled errors in a TaskGroup (1 sub-exception)\n",
      "    +-+---------------- 1 ----------------\n",
      "      | Traceback (most recent call last):\n",
      "      |   File \"c:\\Users\\asmag\\anaconda3\\Lib\\site-packages\\uvicorn\\protocols\\http\\h11_impl.py\", line 407, in run_asgi\n",
      "      |     result = await app(  # type: ignore[func-returns-value]\n",
      "      |              ^^^^^^^^^^^^^^^^^^^^^^^^^^^^^^^^^^^^^^^^^^^^^^\n",
      "      |   File \"c:\\Users\\asmag\\anaconda3\\Lib\\site-packages\\uvicorn\\middleware\\proxy_headers.py\", line 69, in __call__\n",
      "      |     return await self.app(scope, receive, send)\n",
      "      |            ^^^^^^^^^^^^^^^^^^^^^^^^^^^^^^^^^^^^\n",
      "      |   File \"c:\\Users\\asmag\\anaconda3\\Lib\\site-packages\\fastapi\\applications.py\", line 1054, in __call__\n",
      "      |     await super().__call__(scope, receive, send)\n",
      "      |   File \"c:\\Users\\asmag\\anaconda3\\Lib\\site-packages\\starlette\\applications.py\", line 123, in __call__\n",
      "      |     await self.middleware_stack(scope, receive, send)\n",
      "      |   File \"c:\\Users\\asmag\\anaconda3\\Lib\\site-packages\\starlette\\middleware\\errors.py\", line 186, in __call__\n",
      "      |     raise exc\n",
      "      |   File \"c:\\Users\\asmag\\anaconda3\\Lib\\site-packages\\starlette\\middleware\\errors.py\", line 164, in __call__\n",
      "      |     await self.app(scope, receive, _send)\n",
      "      |   File \"c:\\Users\\asmag\\anaconda3\\Lib\\site-packages\\starlette\\middleware\\base.py\", line 189, in __call__\n",
      "      |     with collapse_excgroups():\n",
      "      |   File \"c:\\Users\\asmag\\anaconda3\\Lib\\contextlib.py\", line 158, in __exit__\n",
      "      |     self.gen.throw(typ, value, traceback)\n",
      "      |   File \"c:\\Users\\asmag\\anaconda3\\Lib\\site-packages\\starlette\\_utils.py\", line 93, in collapse_excgroups\n",
      "      |     raise exc\n",
      "      |   File \"c:\\Users\\asmag\\anaconda3\\Lib\\site-packages\\starlette\\responses.py\", line 260, in wrap\n",
      "      |     await func()\n",
      "      |   File \"c:\\Users\\asmag\\anaconda3\\Lib\\site-packages\\starlette\\middleware\\base.py\", line 217, in stream_response\n",
      "      |     return await super().stream_response(send)\n",
      "      |            ^^^^^^^^^^^^^^^^^^^^^^^^^^^^^^^^^^^\n",
      "      |   File \"c:\\Users\\asmag\\anaconda3\\Lib\\site-packages\\starlette\\responses.py\", line 254, in stream_response\n",
      "      |     await send({\"type\": \"http.response.body\", \"body\": b\"\", \"more_body\": False})\n",
      "      |   File \"c:\\Users\\asmag\\anaconda3\\Lib\\site-packages\\starlette\\middleware\\errors.py\", line 161, in _send\n",
      "      |     await send(message)\n",
      "      |   File \"c:\\Users\\asmag\\anaconda3\\Lib\\site-packages\\uvicorn\\protocols\\http\\h11_impl.py\", line 511, in send\n",
      "      |     output = self.conn.send(event=h11.EndOfMessage())\n",
      "      |              ^^^^^^^^^^^^^^^^^^^^^^^^^^^^^^^^^^^^^^^^\n",
      "      |   File \"c:\\Users\\asmag\\anaconda3\\Lib\\site-packages\\h11\\_connection.py\", line 512, in send\n",
      "      |     data_list = self.send_with_data_passthrough(event)\n",
      "      |                 ^^^^^^^^^^^^^^^^^^^^^^^^^^^^^^^^^^^^^^\n",
      "      |   File \"c:\\Users\\asmag\\anaconda3\\Lib\\site-packages\\h11\\_connection.py\", line 545, in send_with_data_passthrough\n",
      "      |     writer(event, data_list.append)\n",
      "      |   File \"c:\\Users\\asmag\\anaconda3\\Lib\\site-packages\\h11\\_writers.py\", line 67, in __call__\n",
      "      |     self.send_eom(event.headers, write)\n",
      "      |   File \"c:\\Users\\asmag\\anaconda3\\Lib\\site-packages\\h11\\_writers.py\", line 96, in send_eom\n",
      "      |     raise LocalProtocolError(\"Too little data for declared Content-Length\")\n",
      "      | h11._util.LocalProtocolError: Too little data for declared Content-Length\n",
      "      +------------------------------------\n",
      "\n",
      "During handling of the above exception, another exception occurred:\n",
      "\n",
      "Traceback (most recent call last):\n",
      "  File \"c:\\Users\\asmag\\anaconda3\\Lib\\site-packages\\uvicorn\\protocols\\http\\h11_impl.py\", line 407, in run_asgi\n",
      "    result = await app(  # type: ignore[func-returns-value]\n",
      "             ^^^^^^^^^^^^^^^^^^^^^^^^^^^^^^^^^^^^^^^^^^^^^^\n",
      "  File \"c:\\Users\\asmag\\anaconda3\\Lib\\site-packages\\uvicorn\\middleware\\proxy_headers.py\", line 69, in __call__\n",
      "    return await self.app(scope, receive, send)\n",
      "           ^^^^^^^^^^^^^^^^^^^^^^^^^^^^^^^^^^^^\n",
      "  File \"c:\\Users\\asmag\\anaconda3\\Lib\\site-packages\\fastapi\\applications.py\", line 1054, in __call__\n",
      "    await super().__call__(scope, receive, send)\n",
      "  File \"c:\\Users\\asmag\\anaconda3\\Lib\\site-packages\\starlette\\applications.py\", line 123, in __call__\n",
      "    await self.middleware_stack(scope, receive, send)\n",
      "  File \"c:\\Users\\asmag\\anaconda3\\Lib\\site-packages\\starlette\\middleware\\errors.py\", line 186, in __call__\n",
      "    raise exc\n",
      "  File \"c:\\Users\\asmag\\anaconda3\\Lib\\site-packages\\starlette\\middleware\\errors.py\", line 164, in __call__\n",
      "    await self.app(scope, receive, _send)\n",
      "  File \"c:\\Users\\asmag\\anaconda3\\Lib\\site-packages\\starlette\\middleware\\base.py\", line 189, in __call__\n",
      "    with collapse_excgroups():\n",
      "  File \"c:\\Users\\asmag\\anaconda3\\Lib\\contextlib.py\", line 158, in __exit__\n",
      "    self.gen.throw(typ, value, traceback)\n",
      "  File \"c:\\Users\\asmag\\anaconda3\\Lib\\site-packages\\starlette\\_utils.py\", line 93, in collapse_excgroups\n",
      "    raise exc\n",
      "  File \"c:\\Users\\asmag\\anaconda3\\Lib\\site-packages\\starlette\\responses.py\", line 260, in wrap\n",
      "    await func()\n",
      "  File \"c:\\Users\\asmag\\anaconda3\\Lib\\site-packages\\starlette\\middleware\\base.py\", line 217, in stream_response\n",
      "    return await super().stream_response(send)\n",
      "           ^^^^^^^^^^^^^^^^^^^^^^^^^^^^^^^^^^^\n",
      "  File \"c:\\Users\\asmag\\anaconda3\\Lib\\site-packages\\starlette\\responses.py\", line 254, in stream_response\n",
      "    await send({\"type\": \"http.response.body\", \"body\": b\"\", \"more_body\": False})\n",
      "  File \"c:\\Users\\asmag\\anaconda3\\Lib\\site-packages\\starlette\\middleware\\errors.py\", line 161, in _send\n",
      "    await send(message)\n",
      "  File \"c:\\Users\\asmag\\anaconda3\\Lib\\site-packages\\uvicorn\\protocols\\http\\h11_impl.py\", line 511, in send\n",
      "    output = self.conn.send(event=h11.EndOfMessage())\n",
      "             ^^^^^^^^^^^^^^^^^^^^^^^^^^^^^^^^^^^^^^^^\n",
      "  File \"c:\\Users\\asmag\\anaconda3\\Lib\\site-packages\\h11\\_connection.py\", line 512, in send\n",
      "    data_list = self.send_with_data_passthrough(event)\n",
      "                ^^^^^^^^^^^^^^^^^^^^^^^^^^^^^^^^^^^^^^\n",
      "  File \"c:\\Users\\asmag\\anaconda3\\Lib\\site-packages\\h11\\_connection.py\", line 545, in send_with_data_passthrough\n",
      "    writer(event, data_list.append)\n",
      "  File \"c:\\Users\\asmag\\anaconda3\\Lib\\site-packages\\h11\\_writers.py\", line 67, in __call__\n",
      "    self.send_eom(event.headers, write)\n",
      "  File \"c:\\Users\\asmag\\anaconda3\\Lib\\site-packages\\h11\\_writers.py\", line 96, in send_eom\n",
      "    raise LocalProtocolError(\"Too little data for declared Content-Length\")\n",
      "h11._util.LocalProtocolError: Too little data for declared Content-Length\n"
     ]
    },
    {
     "name": "stdout",
     "output_type": "stream",
     "text": [
      "\n",
      "0: 640x640 1 porte-avant, 124.6ms\n",
      "Speed: 5.0ms preprocess, 124.6ms inference, 1.0ms postprocess per image at shape (1, 3, 640, 640)\n"
     ]
    },
    {
     "name": "stderr",
     "output_type": "stream",
     "text": [
      "Traceback (most recent call last):\n",
      "  File \"c:\\Users\\asmag\\anaconda3\\Lib\\site-packages\\gradio\\queueing.py\", line 501, in call_prediction\n",
      "    output = await route_utils.call_process_api(\n",
      "             ^^^^^^^^^^^^^^^^^^^^^^^^^^^^^^^^^^^\n",
      "  File \"c:\\Users\\asmag\\anaconda3\\Lib\\site-packages\\gradio\\route_utils.py\", line 258, in call_process_api\n",
      "    output = await app.get_blocks().process_api(\n",
      "             ^^^^^^^^^^^^^^^^^^^^^^^^^^^^^^^^^^^\n",
      "  File \"c:\\Users\\asmag\\anaconda3\\Lib\\site-packages\\gradio\\blocks.py\", line 1684, in process_api\n",
      "    result = await self.call_function(\n",
      "             ^^^^^^^^^^^^^^^^^^^^^^^^^\n",
      "  File \"c:\\Users\\asmag\\anaconda3\\Lib\\site-packages\\gradio\\blocks.py\", line 1250, in call_function\n",
      "    prediction = await anyio.to_thread.run_sync(\n",
      "                 ^^^^^^^^^^^^^^^^^^^^^^^^^^^^^^^\n",
      "  File \"c:\\Users\\asmag\\anaconda3\\Lib\\site-packages\\anyio\\to_thread.py\", line 56, in run_sync\n",
      "    return await get_async_backend().run_sync_in_worker_thread(\n",
      "           ^^^^^^^^^^^^^^^^^^^^^^^^^^^^^^^^^^^^^^^^^^^^^^^^^^^^\n",
      "  File \"c:\\Users\\asmag\\anaconda3\\Lib\\site-packages\\anyio\\_backends\\_asyncio.py\", line 2134, in run_sync_in_worker_thread\n",
      "    return await future\n",
      "           ^^^^^^^^^^^^\n",
      "  File \"c:\\Users\\asmag\\anaconda3\\Lib\\site-packages\\anyio\\_backends\\_asyncio.py\", line 851, in run\n",
      "    result = context.run(func, *args)\n",
      "             ^^^^^^^^^^^^^^^^^^^^^^^^\n",
      "  File \"c:\\Users\\asmag\\anaconda3\\Lib\\site-packages\\gradio\\utils.py\", line 750, in wrapper\n",
      "    response = f(*args, **kwargs)\n",
      "               ^^^^^^^^^^^^^^^^^^\n",
      "  File \"C:\\Users\\asmag\\AppData\\Local\\Temp\\ipykernel_13380\\2623238120.py\", line 11, in predict\n",
      "    annotated_image = new_results.render()[0]\n",
      "                      ^^^^^^^^^^^^^^^^^^\n",
      "AttributeError: 'list' object has no attribute 'render'\n"
     ]
    }
   ],
   "source": [
    "# Create your Gradio interface\n",
    "#iface = gr.Interface(\n",
    "    #fn=predict, \n",
    "    #inputs=gr.components.Image(type=\"pil\", label=\"Upload Image\"), \n",
    "    #outputs=gr.components.Image(type=\"pil\"),\n",
    "    #title=\"YOLOv8 Car Front Door Detection\",\n",
    "    #description=\"Upload an image of a car to detect the front doors.\"\n",
    "#)\n",
    "\n",
    "# Launch the interface\n",
    "#iface.launch()"
   ]
  },
  {
   "cell_type": "code",
   "execution_count": 105,
   "metadata": {},
   "outputs": [
    {
     "name": "stdout",
     "output_type": "stream",
     "text": [
      "Running on local URL:  http://127.0.0.1:7875\n",
      "\n",
      "To create a public link, set `share=True` in `launch()`.\n"
     ]
    },
    {
     "data": {
      "text/html": [
       "<div><iframe src=\"http://127.0.0.1:7875/\" width=\"100%\" height=\"500\" allow=\"autoplay; camera; microphone; clipboard-read; clipboard-write;\" frameborder=\"0\" allowfullscreen></iframe></div>"
      ],
      "text/plain": [
       "<IPython.core.display.HTML object>"
      ]
     },
     "metadata": {},
     "output_type": "display_data"
    },
    {
     "data": {
      "text/plain": []
     },
     "execution_count": 105,
     "metadata": {},
     "output_type": "execute_result"
    },
    {
     "name": "stderr",
     "output_type": "stream",
     "text": [
      "ERROR:    Exception in ASGI application\n",
      "  + Exception Group Traceback (most recent call last):\n",
      "  |   File \"c:\\Users\\asmag\\anaconda3\\Lib\\site-packages\\starlette\\middleware\\base.py\", line 192, in __call__\n",
      "  |     await response(scope, wrapped_receive, send)\n",
      "  |   File \"c:\\Users\\asmag\\anaconda3\\Lib\\site-packages\\starlette\\responses.py\", line 257, in __call__\n",
      "  |     async with anyio.create_task_group() as task_group:\n",
      "  |   File \"c:\\Users\\asmag\\anaconda3\\Lib\\site-packages\\anyio\\_backends\\_asyncio.py\", line 678, in __aexit__\n",
      "  |     raise BaseExceptionGroup(\n",
      "  | ExceptionGroup: unhandled errors in a TaskGroup (1 sub-exception)\n",
      "  +-+---------------- 1 ----------------\n",
      "    | Traceback (most recent call last):\n",
      "    |   File \"c:\\Users\\asmag\\anaconda3\\Lib\\site-packages\\uvicorn\\protocols\\http\\h11_impl.py\", line 407, in run_asgi\n",
      "    |     result = await app(  # type: ignore[func-returns-value]\n",
      "    |              ^^^^^^^^^^^^^^^^^^^^^^^^^^^^^^^^^^^^^^^^^^^^^^\n",
      "    |   File \"c:\\Users\\asmag\\anaconda3\\Lib\\site-packages\\uvicorn\\middleware\\proxy_headers.py\", line 69, in __call__\n",
      "    |     return await self.app(scope, receive, send)\n",
      "    |            ^^^^^^^^^^^^^^^^^^^^^^^^^^^^^^^^^^^^\n",
      "    |   File \"c:\\Users\\asmag\\anaconda3\\Lib\\site-packages\\fastapi\\applications.py\", line 1054, in __call__\n",
      "    |     await super().__call__(scope, receive, send)\n",
      "    |   File \"c:\\Users\\asmag\\anaconda3\\Lib\\site-packages\\starlette\\applications.py\", line 123, in __call__\n",
      "    |     await self.middleware_stack(scope, receive, send)\n",
      "    |   File \"c:\\Users\\asmag\\anaconda3\\Lib\\site-packages\\starlette\\middleware\\errors.py\", line 186, in __call__\n",
      "    |     raise exc\n",
      "    |   File \"c:\\Users\\asmag\\anaconda3\\Lib\\site-packages\\starlette\\middleware\\errors.py\", line 164, in __call__\n",
      "    |     await self.app(scope, receive, _send)\n",
      "    |   File \"c:\\Users\\asmag\\anaconda3\\Lib\\site-packages\\starlette\\middleware\\base.py\", line 189, in __call__\n",
      "    |     with collapse_excgroups():\n",
      "    |   File \"c:\\Users\\asmag\\anaconda3\\Lib\\contextlib.py\", line 158, in __exit__\n",
      "    |     self.gen.throw(typ, value, traceback)\n",
      "    |   File \"c:\\Users\\asmag\\anaconda3\\Lib\\site-packages\\starlette\\_utils.py\", line 93, in collapse_excgroups\n",
      "    |     raise exc\n",
      "    |   File \"c:\\Users\\asmag\\anaconda3\\Lib\\site-packages\\starlette\\responses.py\", line 260, in wrap\n",
      "    |     await func()\n",
      "    |   File \"c:\\Users\\asmag\\anaconda3\\Lib\\site-packages\\starlette\\middleware\\base.py\", line 217, in stream_response\n",
      "    |     return await super().stream_response(send)\n",
      "    |            ^^^^^^^^^^^^^^^^^^^^^^^^^^^^^^^^^^^\n",
      "    |   File \"c:\\Users\\asmag\\anaconda3\\Lib\\site-packages\\starlette\\responses.py\", line 254, in stream_response\n",
      "    |     await send({\"type\": \"http.response.body\", \"body\": b\"\", \"more_body\": False})\n",
      "    |   File \"c:\\Users\\asmag\\anaconda3\\Lib\\site-packages\\starlette\\middleware\\errors.py\", line 161, in _send\n",
      "    |     await send(message)\n",
      "    |   File \"c:\\Users\\asmag\\anaconda3\\Lib\\site-packages\\uvicorn\\protocols\\http\\h11_impl.py\", line 511, in send\n",
      "    |     output = self.conn.send(event=h11.EndOfMessage())\n",
      "    |              ^^^^^^^^^^^^^^^^^^^^^^^^^^^^^^^^^^^^^^^^\n",
      "    |   File \"c:\\Users\\asmag\\anaconda3\\Lib\\site-packages\\h11\\_connection.py\", line 512, in send\n",
      "    |     data_list = self.send_with_data_passthrough(event)\n",
      "    |                 ^^^^^^^^^^^^^^^^^^^^^^^^^^^^^^^^^^^^^^\n",
      "    |   File \"c:\\Users\\asmag\\anaconda3\\Lib\\site-packages\\h11\\_connection.py\", line 545, in send_with_data_passthrough\n",
      "    |     writer(event, data_list.append)\n",
      "    |   File \"c:\\Users\\asmag\\anaconda3\\Lib\\site-packages\\h11\\_writers.py\", line 67, in __call__\n",
      "    |     self.send_eom(event.headers, write)\n",
      "    |   File \"c:\\Users\\asmag\\anaconda3\\Lib\\site-packages\\h11\\_writers.py\", line 96, in send_eom\n",
      "    |     raise LocalProtocolError(\"Too little data for declared Content-Length\")\n",
      "    | h11._util.LocalProtocolError: Too little data for declared Content-Length\n",
      "    +------------------------------------\n",
      "\n",
      "During handling of the above exception, another exception occurred:\n",
      "\n",
      "  + Exception Group Traceback (most recent call last):\n",
      "  |   File \"c:\\Users\\asmag\\anaconda3\\Lib\\site-packages\\starlette\\_utils.py\", line 87, in collapse_excgroups\n",
      "  |     yield\n",
      "  |   File \"c:\\Users\\asmag\\anaconda3\\Lib\\site-packages\\starlette\\middleware\\base.py\", line 190, in __call__\n",
      "  |     async with anyio.create_task_group() as task_group:\n",
      "  |   File \"c:\\Users\\asmag\\anaconda3\\Lib\\site-packages\\anyio\\_backends\\_asyncio.py\", line 678, in __aexit__\n",
      "  |     raise BaseExceptionGroup(\n",
      "  | ExceptionGroup: unhandled errors in a TaskGroup (1 sub-exception)\n",
      "  +-+---------------- 1 ----------------\n",
      "    | Exception Group Traceback (most recent call last):\n",
      "    |   File \"c:\\Users\\asmag\\anaconda3\\Lib\\site-packages\\starlette\\middleware\\base.py\", line 192, in __call__\n",
      "    |     await response(scope, wrapped_receive, send)\n",
      "    |   File \"c:\\Users\\asmag\\anaconda3\\Lib\\site-packages\\starlette\\responses.py\", line 257, in __call__\n",
      "    |     async with anyio.create_task_group() as task_group:\n",
      "    |   File \"c:\\Users\\asmag\\anaconda3\\Lib\\site-packages\\anyio\\_backends\\_asyncio.py\", line 678, in __aexit__\n",
      "    |     raise BaseExceptionGroup(\n",
      "    | ExceptionGroup: unhandled errors in a TaskGroup (1 sub-exception)\n",
      "    +-+---------------- 1 ----------------\n",
      "      | Traceback (most recent call last):\n",
      "      |   File \"c:\\Users\\asmag\\anaconda3\\Lib\\site-packages\\uvicorn\\protocols\\http\\h11_impl.py\", line 407, in run_asgi\n",
      "      |     result = await app(  # type: ignore[func-returns-value]\n",
      "      |              ^^^^^^^^^^^^^^^^^^^^^^^^^^^^^^^^^^^^^^^^^^^^^^\n",
      "      |   File \"c:\\Users\\asmag\\anaconda3\\Lib\\site-packages\\uvicorn\\middleware\\proxy_headers.py\", line 69, in __call__\n",
      "      |     return await self.app(scope, receive, send)\n",
      "      |            ^^^^^^^^^^^^^^^^^^^^^^^^^^^^^^^^^^^^\n",
      "      |   File \"c:\\Users\\asmag\\anaconda3\\Lib\\site-packages\\fastapi\\applications.py\", line 1054, in __call__\n",
      "      |     await super().__call__(scope, receive, send)\n",
      "      |   File \"c:\\Users\\asmag\\anaconda3\\Lib\\site-packages\\starlette\\applications.py\", line 123, in __call__\n",
      "      |     await self.middleware_stack(scope, receive, send)\n",
      "      |   File \"c:\\Users\\asmag\\anaconda3\\Lib\\site-packages\\starlette\\middleware\\errors.py\", line 186, in __call__\n",
      "      |     raise exc\n",
      "      |   File \"c:\\Users\\asmag\\anaconda3\\Lib\\site-packages\\starlette\\middleware\\errors.py\", line 164, in __call__\n",
      "      |     await self.app(scope, receive, _send)\n",
      "      |   File \"c:\\Users\\asmag\\anaconda3\\Lib\\site-packages\\starlette\\middleware\\base.py\", line 189, in __call__\n",
      "      |     with collapse_excgroups():\n",
      "      |   File \"c:\\Users\\asmag\\anaconda3\\Lib\\contextlib.py\", line 158, in __exit__\n",
      "      |     self.gen.throw(typ, value, traceback)\n",
      "      |   File \"c:\\Users\\asmag\\anaconda3\\Lib\\site-packages\\starlette\\_utils.py\", line 93, in collapse_excgroups\n",
      "      |     raise exc\n",
      "      |   File \"c:\\Users\\asmag\\anaconda3\\Lib\\site-packages\\starlette\\responses.py\", line 260, in wrap\n",
      "      |     await func()\n",
      "      |   File \"c:\\Users\\asmag\\anaconda3\\Lib\\site-packages\\starlette\\middleware\\base.py\", line 217, in stream_response\n",
      "      |     return await super().stream_response(send)\n",
      "      |            ^^^^^^^^^^^^^^^^^^^^^^^^^^^^^^^^^^^\n",
      "      |   File \"c:\\Users\\asmag\\anaconda3\\Lib\\site-packages\\starlette\\responses.py\", line 254, in stream_response\n",
      "      |     await send({\"type\": \"http.response.body\", \"body\": b\"\", \"more_body\": False})\n",
      "      |   File \"c:\\Users\\asmag\\anaconda3\\Lib\\site-packages\\starlette\\middleware\\errors.py\", line 161, in _send\n",
      "      |     await send(message)\n",
      "      |   File \"c:\\Users\\asmag\\anaconda3\\Lib\\site-packages\\uvicorn\\protocols\\http\\h11_impl.py\", line 511, in send\n",
      "      |     output = self.conn.send(event=h11.EndOfMessage())\n",
      "      |              ^^^^^^^^^^^^^^^^^^^^^^^^^^^^^^^^^^^^^^^^\n",
      "      |   File \"c:\\Users\\asmag\\anaconda3\\Lib\\site-packages\\h11\\_connection.py\", line 512, in send\n",
      "      |     data_list = self.send_with_data_passthrough(event)\n",
      "      |                 ^^^^^^^^^^^^^^^^^^^^^^^^^^^^^^^^^^^^^^\n",
      "      |   File \"c:\\Users\\asmag\\anaconda3\\Lib\\site-packages\\h11\\_connection.py\", line 545, in send_with_data_passthrough\n",
      "      |     writer(event, data_list.append)\n",
      "      |   File \"c:\\Users\\asmag\\anaconda3\\Lib\\site-packages\\h11\\_writers.py\", line 67, in __call__\n",
      "      |     self.send_eom(event.headers, write)\n",
      "      |   File \"c:\\Users\\asmag\\anaconda3\\Lib\\site-packages\\h11\\_writers.py\", line 96, in send_eom\n",
      "      |     raise LocalProtocolError(\"Too little data for declared Content-Length\")\n",
      "      | h11._util.LocalProtocolError: Too little data for declared Content-Length\n",
      "      +------------------------------------\n",
      "\n",
      "During handling of the above exception, another exception occurred:\n",
      "\n",
      "Traceback (most recent call last):\n",
      "  File \"c:\\Users\\asmag\\anaconda3\\Lib\\site-packages\\uvicorn\\protocols\\http\\h11_impl.py\", line 407, in run_asgi\n",
      "    result = await app(  # type: ignore[func-returns-value]\n",
      "             ^^^^^^^^^^^^^^^^^^^^^^^^^^^^^^^^^^^^^^^^^^^^^^\n",
      "  File \"c:\\Users\\asmag\\anaconda3\\Lib\\site-packages\\uvicorn\\middleware\\proxy_headers.py\", line 69, in __call__\n",
      "    return await self.app(scope, receive, send)\n",
      "           ^^^^^^^^^^^^^^^^^^^^^^^^^^^^^^^^^^^^\n",
      "  File \"c:\\Users\\asmag\\anaconda3\\Lib\\site-packages\\fastapi\\applications.py\", line 1054, in __call__\n",
      "    await super().__call__(scope, receive, send)\n",
      "  File \"c:\\Users\\asmag\\anaconda3\\Lib\\site-packages\\starlette\\applications.py\", line 123, in __call__\n",
      "    await self.middleware_stack(scope, receive, send)\n",
      "  File \"c:\\Users\\asmag\\anaconda3\\Lib\\site-packages\\starlette\\middleware\\errors.py\", line 186, in __call__\n",
      "    raise exc\n",
      "  File \"c:\\Users\\asmag\\anaconda3\\Lib\\site-packages\\starlette\\middleware\\errors.py\", line 164, in __call__\n",
      "    await self.app(scope, receive, _send)\n",
      "  File \"c:\\Users\\asmag\\anaconda3\\Lib\\site-packages\\starlette\\middleware\\base.py\", line 189, in __call__\n",
      "    with collapse_excgroups():\n",
      "  File \"c:\\Users\\asmag\\anaconda3\\Lib\\contextlib.py\", line 158, in __exit__\n",
      "    self.gen.throw(typ, value, traceback)\n",
      "  File \"c:\\Users\\asmag\\anaconda3\\Lib\\site-packages\\starlette\\_utils.py\", line 93, in collapse_excgroups\n",
      "    raise exc\n",
      "  File \"c:\\Users\\asmag\\anaconda3\\Lib\\site-packages\\starlette\\responses.py\", line 260, in wrap\n",
      "    await func()\n",
      "  File \"c:\\Users\\asmag\\anaconda3\\Lib\\site-packages\\starlette\\middleware\\base.py\", line 217, in stream_response\n",
      "    return await super().stream_response(send)\n",
      "           ^^^^^^^^^^^^^^^^^^^^^^^^^^^^^^^^^^^\n",
      "  File \"c:\\Users\\asmag\\anaconda3\\Lib\\site-packages\\starlette\\responses.py\", line 254, in stream_response\n",
      "    await send({\"type\": \"http.response.body\", \"body\": b\"\", \"more_body\": False})\n",
      "  File \"c:\\Users\\asmag\\anaconda3\\Lib\\site-packages\\starlette\\middleware\\errors.py\", line 161, in _send\n",
      "    await send(message)\n",
      "  File \"c:\\Users\\asmag\\anaconda3\\Lib\\site-packages\\uvicorn\\protocols\\http\\h11_impl.py\", line 511, in send\n",
      "    output = self.conn.send(event=h11.EndOfMessage())\n",
      "             ^^^^^^^^^^^^^^^^^^^^^^^^^^^^^^^^^^^^^^^^\n",
      "  File \"c:\\Users\\asmag\\anaconda3\\Lib\\site-packages\\h11\\_connection.py\", line 512, in send\n",
      "    data_list = self.send_with_data_passthrough(event)\n",
      "                ^^^^^^^^^^^^^^^^^^^^^^^^^^^^^^^^^^^^^^\n",
      "  File \"c:\\Users\\asmag\\anaconda3\\Lib\\site-packages\\h11\\_connection.py\", line 545, in send_with_data_passthrough\n",
      "    writer(event, data_list.append)\n",
      "  File \"c:\\Users\\asmag\\anaconda3\\Lib\\site-packages\\h11\\_writers.py\", line 67, in __call__\n",
      "    self.send_eom(event.headers, write)\n",
      "  File \"c:\\Users\\asmag\\anaconda3\\Lib\\site-packages\\h11\\_writers.py\", line 96, in send_eom\n",
      "    raise LocalProtocolError(\"Too little data for declared Content-Length\")\n",
      "h11._util.LocalProtocolError: Too little data for declared Content-Length\n"
     ]
    },
    {
     "name": "stdout",
     "output_type": "stream",
     "text": [
      "\n",
      "0: 640x640 1 porte-avant, 122.1ms\n",
      "Speed: 4.0ms preprocess, 122.1ms inference, 1.0ms postprocess per image at shape (1, 3, 640, 640)\n",
      "[ultralytics.engine.results.Results object with attributes:\n",
      "\n",
      "boxes: ultralytics.engine.results.Boxes object\n",
      "keypoints: None\n",
      "masks: None\n",
      "names: {0: 'porte-avant'}\n",
      "obb: None\n",
      "orig_img: array([[[210, 208, 184],\n",
      "        [211, 209, 185],\n",
      "        [211, 209, 185],\n",
      "        ...,\n",
      "        [116, 105,  97],\n",
      "        [114, 103,  95],\n",
      "        [114, 103,  95]],\n",
      "\n",
      "       [[210, 208, 184],\n",
      "        [211, 209, 185],\n",
      "        [211, 209, 185],\n",
      "        ...,\n",
      "        [117, 106,  98],\n",
      "        [115, 104,  96],\n",
      "        [115, 104,  96]],\n",
      "\n",
      "       [[211, 209, 185],\n",
      "        [211, 209, 185],\n",
      "        [212, 210, 186],\n",
      "        ...,\n",
      "        [118, 107,  99],\n",
      "        [117, 106,  98],\n",
      "        [116, 105,  97]],\n",
      "\n",
      "       ...,\n",
      "\n",
      "       [[107, 137, 148],\n",
      "        [108, 138, 149],\n",
      "        [ 92, 124, 135],\n",
      "        ...,\n",
      "        [143, 161, 168],\n",
      "        [133, 149, 156],\n",
      "        [136, 152, 159]],\n",
      "\n",
      "       [[142, 173, 182],\n",
      "        [128, 159, 168],\n",
      "        [ 97, 130, 139],\n",
      "        ...,\n",
      "        [132, 148, 155],\n",
      "        [130, 143, 151],\n",
      "        [127, 140, 148]],\n",
      "\n",
      "       [[134, 166, 172],\n",
      "        [115, 146, 155],\n",
      "        [ 93, 124, 133],\n",
      "        ...,\n",
      "        [107, 123, 130],\n",
      "        [112, 125, 133],\n",
      "        [108, 119, 127]]], dtype=uint8)\n",
      "orig_shape: (640, 640)\n",
      "path: 'image0.jpg'\n",
      "probs: None\n",
      "save_dir: 'runs\\\\detect\\\\predict'\n",
      "speed: {'preprocess': 3.999471664428711, 'inference': 122.0712661743164, 'postprocess': 1.0018348693847656}]\n"
     ]
    },
    {
     "name": "stderr",
     "output_type": "stream",
     "text": [
      "Traceback (most recent call last):\n",
      "  File \"c:\\Users\\asmag\\anaconda3\\Lib\\site-packages\\gradio\\queueing.py\", line 501, in call_prediction\n",
      "    output = await route_utils.call_process_api(\n",
      "             ^^^^^^^^^^^^^^^^^^^^^^^^^^^^^^^^^^^\n",
      "  File \"c:\\Users\\asmag\\anaconda3\\Lib\\site-packages\\gradio\\route_utils.py\", line 258, in call_process_api\n",
      "    output = await app.get_blocks().process_api(\n",
      "             ^^^^^^^^^^^^^^^^^^^^^^^^^^^^^^^^^^^\n",
      "  File \"c:\\Users\\asmag\\anaconda3\\Lib\\site-packages\\gradio\\blocks.py\", line 1693, in process_api\n",
      "    data = self.postprocess_data(fn_index, result[\"prediction\"], state)\n",
      "           ^^^^^^^^^^^^^^^^^^^^^^^^^^^^^^^^^^^^^^^^^^^^^^^^^^^^^^^^^^^^\n",
      "  File \"c:\\Users\\asmag\\anaconda3\\Lib\\site-packages\\gradio\\blocks.py\", line 1535, in postprocess_data\n",
      "    prediction_value = block.postprocess(prediction_value)\n",
      "                       ^^^^^^^^^^^^^^^^^^^^^^^^^^^^^^^^^^^\n",
      "  File \"c:\\Users\\asmag\\anaconda3\\Lib\\site-packages\\gradio\\components\\image.py\", line 205, in postprocess\n",
      "    saved = image_utils.save_image(value, self.GRADIO_CACHE, self.format)\n",
      "            ^^^^^^^^^^^^^^^^^^^^^^^^^^^^^^^^^^^^^^^^^^^^^^^^^^^^^^^^^^^^^\n",
      "  File \"c:\\Users\\asmag\\anaconda3\\Lib\\site-packages\\gradio\\image_utils.py\", line 74, in save_image\n",
      "    raise ValueError(\n",
      "ValueError: Cannot process this value as an Image, it is of type: <class 'list'>\n"
     ]
    },
    {
     "name": "stdout",
     "output_type": "stream",
     "text": [
      "\n",
      "0: 640x480 1 porte-avant, 94.5ms\n",
      "Speed: 2.0ms preprocess, 94.5ms inference, 1.0ms postprocess per image at shape (1, 3, 640, 480)\n",
      "[ultralytics.engine.results.Results object with attributes:\n",
      "\n",
      "boxes: ultralytics.engine.results.Boxes object\n",
      "keypoints: None\n",
      "masks: None\n",
      "names: {0: 'porte-avant'}\n",
      "obb: None\n",
      "orig_img: array([[[190, 185, 186],\n",
      "        [191, 186, 187],\n",
      "        [194, 189, 190],\n",
      "        ...,\n",
      "        [200, 205, 214],\n",
      "        [200, 207, 222],\n",
      "        [198, 207, 221]],\n",
      "\n",
      "       [[188, 183, 184],\n",
      "        [188, 183, 184],\n",
      "        [189, 184, 185],\n",
      "        ...,\n",
      "        [200, 205, 214],\n",
      "        [199, 208, 222],\n",
      "        [198, 207, 221]],\n",
      "\n",
      "       [[180, 178, 178],\n",
      "        [180, 178, 178],\n",
      "        [181, 179, 179],\n",
      "        ...,\n",
      "        [201, 206, 215],\n",
      "        [199, 208, 222],\n",
      "        [199, 207, 224]],\n",
      "\n",
      "       ...,\n",
      "\n",
      "       [[117, 134, 153],\n",
      "        [123, 140, 159],\n",
      "        [129, 146, 165],\n",
      "        ...,\n",
      "        [ 26,  25,  34],\n",
      "        [ 25,  24,  33],\n",
      "        [ 25,  24,  33]],\n",
      "\n",
      "       [[121, 138, 157],\n",
      "        [126, 143, 162],\n",
      "        [128, 145, 164],\n",
      "        ...,\n",
      "        [ 27,  26,  35],\n",
      "        [ 26,  25,  34],\n",
      "        [ 25,  24,  33]],\n",
      "\n",
      "       [[113, 130, 149],\n",
      "        [115, 132, 151],\n",
      "        [113, 130, 149],\n",
      "        ...,\n",
      "        [ 31,  30,  40],\n",
      "        [ 29,  28,  38],\n",
      "        [ 28,  27,  37]]], dtype=uint8)\n",
      "orig_shape: (800, 600)\n",
      "path: 'image0.jpg'\n",
      "probs: None\n",
      "save_dir: 'runs\\\\detect\\\\predict'\n",
      "speed: {'preprocess': 2.0036697387695312, 'inference': 94.52486038208008, 'postprocess': 0.9999275207519531}]\n"
     ]
    },
    {
     "name": "stderr",
     "output_type": "stream",
     "text": [
      "Traceback (most recent call last):\n",
      "  File \"c:\\Users\\asmag\\anaconda3\\Lib\\site-packages\\gradio\\queueing.py\", line 501, in call_prediction\n",
      "    output = await route_utils.call_process_api(\n",
      "             ^^^^^^^^^^^^^^^^^^^^^^^^^^^^^^^^^^^\n",
      "  File \"c:\\Users\\asmag\\anaconda3\\Lib\\site-packages\\gradio\\route_utils.py\", line 258, in call_process_api\n",
      "    output = await app.get_blocks().process_api(\n",
      "             ^^^^^^^^^^^^^^^^^^^^^^^^^^^^^^^^^^^\n",
      "  File \"c:\\Users\\asmag\\anaconda3\\Lib\\site-packages\\gradio\\blocks.py\", line 1693, in process_api\n",
      "    data = self.postprocess_data(fn_index, result[\"prediction\"], state)\n",
      "           ^^^^^^^^^^^^^^^^^^^^^^^^^^^^^^^^^^^^^^^^^^^^^^^^^^^^^^^^^^^^\n",
      "  File \"c:\\Users\\asmag\\anaconda3\\Lib\\site-packages\\gradio\\blocks.py\", line 1535, in postprocess_data\n",
      "    prediction_value = block.postprocess(prediction_value)\n",
      "                       ^^^^^^^^^^^^^^^^^^^^^^^^^^^^^^^^^^^\n",
      "  File \"c:\\Users\\asmag\\anaconda3\\Lib\\site-packages\\gradio\\components\\image.py\", line 205, in postprocess\n",
      "    saved = image_utils.save_image(value, self.GRADIO_CACHE, self.format)\n",
      "            ^^^^^^^^^^^^^^^^^^^^^^^^^^^^^^^^^^^^^^^^^^^^^^^^^^^^^^^^^^^^^\n",
      "  File \"c:\\Users\\asmag\\anaconda3\\Lib\\site-packages\\gradio\\image_utils.py\", line 74, in save_image\n",
      "    raise ValueError(\n",
      "ValueError: Cannot process this value as an Image, it is of type: <class 'list'>\n"
     ]
    }
   ],
   "source": [
    "import gradio as gr\n",
    "\n",
    "def predict(image):\n",
    "    try:\n",
    "        # Just pass the image to the model without any processing\n",
    "        results = trained_model(image)\n",
    "        print(results)  # See what the model is actually returning\n",
    "        return results  # Return the original image for now\n",
    "    except Exception as e:\n",
    "        print(e)  # Print any errors that occur\n",
    "        return image, f\"An error occurred: {e}\"\n",
    "\n",
    "# ... Gradio interface setup and launch\n",
    "\n",
    "\n",
    "\n",
    "iface = gr.Interface(\n",
    "    fn=predict, \n",
    "    inputs=gr.components.Image(type=\"pil\", label=\"Upload Image\"), \n",
    "    outputs=gr.components.Image(type=\"pil\"),\n",
    "    title=\"Test Interface\",\n",
    "    description=\"This should simply return the uploaded image.\"\n",
    ")\n",
    "\n",
    "iface.launch()"
   ]
  }
 ],
 "metadata": {
  "kernelspec": {
   "display_name": ".venv",
   "language": "python",
   "name": "python3"
  },
  "language_info": {
   "codemirror_mode": {
    "name": "ipython",
    "version": 3
   },
   "file_extension": ".py",
   "mimetype": "text/x-python",
   "name": "python",
   "nbconvert_exporter": "python",
   "pygments_lexer": "ipython3",
   "version": "3.11.7"
  }
 },
 "nbformat": 4,
 "nbformat_minor": 2
}
